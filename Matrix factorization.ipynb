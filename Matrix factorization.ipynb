{
 "cells": [
  {
   "cell_type": "code",
   "execution_count": 15,
   "id": "4c833b6f-31b5-42dc-85d7-4530dafab8fa",
   "metadata": {},
   "outputs": [],
   "source": [
    "import numpy as np\n",
    "\n",
    "def matrix_factorization(R, P, Q, K, steps=5000, alpha=0.0002, beta=0.02):\n",
    "    Q = Q.T\n",
    "    for step in range(steps):\n",
    "        for i in range(len(R)):\n",
    "            for j in range(len(R[i])):\n",
    "                if R[i][j] > 0:\n",
    "                    eij = R[i][j] - np.dot(P[i, :], Q[:, j])\n",
    "                    for k in range(K):\n",
    "                        P[i][k] = P[i][k] + alpha * (2 * eij * Q[k][j] - beta * P[i][k])\n",
    "                        Q[k][j] = Q[k][j] + alpha * (2 * eij * P[i][k] - beta * Q[k][j])\n",
    "        eR = np.dot(P, Q)\n",
    "        e = 0\n",
    "        for i in range(len(R)):\n",
    "            for j in range(len(R[i])):\n",
    "                if R[i][j] > 0:\n",
    "                    e = e + pow(R[i][j] - np.dot(P[i, :], Q[:, j]), 2)\n",
    "                    for k in range(K):\n",
    "                        e = e + (beta / 2) * (pow(P[i][k], 2) + pow(Q[k][j], 2))\n",
    "        if e < 0.001:\n",
    "            break\n",
    "    return P, Q.T  # Q.T to revert it back to its original shape\n",
    "\n",
    "                    "
   ]
  },
  {
   "cell_type": "code",
   "execution_count": 16,
   "id": "73012c8d-10d3-4d31-98f4-8c2dab97f074",
   "metadata": {},
   "outputs": [
    {
     "name": "stdout",
     "output_type": "stream",
     "text": [
      "Original Matrix:\n",
      "[[5 3 0 1]\n",
      " [4 0 0 1]\n",
      " [1 1 0 5]\n",
      " [1 0 0 4]\n",
      " [0 1 5 4]]\n",
      "\n",
      "Predicted Matrix:\n",
      "[[4.99814614 2.92820259 4.65590804 0.99831672]\n",
      " [3.96194438 2.32927605 3.86864351 0.9966197 ]\n",
      " [1.07333447 0.8171206  5.11696306 4.9626792 ]\n",
      " [0.96394897 0.71462729 4.17526369 3.97228177]\n",
      " [1.85533094 1.23227965 4.90567353 4.03506691]]\n"
     ]
    }
   ],
   "source": [
    "R = [\n",
    "    [5, 3, 0, 1],\n",
    "    [4, 0, 0, 1],\n",
    "    [1, 1, 0, 5],\n",
    "    [1, 0, 0, 4],\n",
    "    [0, 1, 5, 4],\n",
    "]\n",
    "\n",
    "R = np.array(R)\n",
    "\n",
    "N = len(R)\n",
    "M = len(R[0])\n",
    "K = 2\n",
    "\n",
    "P = np.random.rand(N, K)\n",
    "Q = np.random.rand(M, K)\n",
    "\n",
    "nP, nQ = matrix_factorization(R, P, Q, K)\n",
    "nR = np.dot(nP, nQ.T)  # nQ.T to align shapes for multiplication\n",
    "\n",
    "print(\"Original Matrix:\")\n",
    "print(R)\n",
    "print(\"\\nPredicted Matrix:\")\n",
    "print(nR)"
   ]
  },
  {
   "cell_type": "code",
   "execution_count": 17,
   "id": "fe920aa7-47cd-4dc8-9854-88bdd7635ac5",
   "metadata": {},
   "outputs": [
    {
     "data": {
      "text/plain": [
       "array([[4.99814614, 2.92820259, 4.65590804, 0.99831672],\n",
       "       [3.96194438, 2.32927605, 3.86864351, 0.9966197 ],\n",
       "       [1.07333447, 0.8171206 , 5.11696306, 4.9626792 ],\n",
       "       [0.96394897, 0.71462729, 4.17526369, 3.97228177],\n",
       "       [1.85533094, 1.23227965, 4.90567353, 4.03506691]])"
      ]
     },
     "execution_count": 17,
     "metadata": {},
     "output_type": "execute_result"
    }
   ],
   "source": [
    "nR"
   ]
  }
 ],
 "metadata": {
  "kernelspec": {
   "display_name": "Python 3 (ipykernel)",
   "language": "python",
   "name": "python3"
  },
  "language_info": {
   "codemirror_mode": {
    "name": "ipython",
    "version": 3
   },
   "file_extension": ".py",
   "mimetype": "text/x-python",
   "name": "python",
   "nbconvert_exporter": "python",
   "pygments_lexer": "ipython3",
   "version": "3.12.4"
  }
 },
 "nbformat": 4,
 "nbformat_minor": 5
}
