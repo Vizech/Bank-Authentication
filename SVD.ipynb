{
 "cells": [
  {
   "cell_type": "code",
   "execution_count": 3,
   "id": "a490f32e-c774-4b80-b0f1-ac6d98c935d3",
   "metadata": {},
   "outputs": [
    {
     "data": {
      "text/html": [
       "<div>\n",
       "<style scoped>\n",
       "    .dataframe tbody tr th:only-of-type {\n",
       "        vertical-align: middle;\n",
       "    }\n",
       "\n",
       "    .dataframe tbody tr th {\n",
       "        vertical-align: top;\n",
       "    }\n",
       "\n",
       "    .dataframe thead th {\n",
       "        text-align: right;\n",
       "    }\n",
       "</style>\n",
       "<table border=\"1\" class=\"dataframe\">\n",
       "  <thead>\n",
       "    <tr style=\"text-align: right;\">\n",
       "      <th></th>\n",
       "      <th>post1</th>\n",
       "      <th>post2</th>\n",
       "      <th>post3</th>\n",
       "      <th>post4</th>\n",
       "    </tr>\n",
       "    <tr>\n",
       "      <th>words:</th>\n",
       "      <th></th>\n",
       "      <th></th>\n",
       "      <th></th>\n",
       "      <th></th>\n",
       "    </tr>\n",
       "  </thead>\n",
       "  <tbody>\n",
       "    <tr>\n",
       "      <th>ice</th>\n",
       "      <td>4</td>\n",
       "      <td>4</td>\n",
       "      <td>6</td>\n",
       "      <td>3</td>\n",
       "    </tr>\n",
       "    <tr>\n",
       "      <th>snow</th>\n",
       "      <td>6</td>\n",
       "      <td>1</td>\n",
       "      <td>0</td>\n",
       "      <td>5</td>\n",
       "    </tr>\n",
       "    <tr>\n",
       "      <th>tahoe</th>\n",
       "      <td>3</td>\n",
       "      <td>0</td>\n",
       "      <td>0</td>\n",
       "      <td>5</td>\n",
       "    </tr>\n",
       "    <tr>\n",
       "      <th>ghost</th>\n",
       "      <td>0</td>\n",
       "      <td>6</td>\n",
       "      <td>5</td>\n",
       "      <td>1</td>\n",
       "    </tr>\n",
       "    <tr>\n",
       "      <th>puck</th>\n",
       "      <td>0</td>\n",
       "      <td>4</td>\n",
       "      <td>5</td>\n",
       "      <td>0</td>\n",
       "    </tr>\n",
       "  </tbody>\n",
       "</table>\n",
       "</div>"
      ],
      "text/plain": [
       "        post1  post2  post3  post4\n",
       "words:                            \n",
       "ice         4      4      6      3\n",
       "snow        6      1      0      5\n",
       "tahoe       3      0      0      5\n",
       "ghost       0      6      5      1\n",
       "puck        0      4      5      0"
      ]
     },
     "execution_count": 3,
     "metadata": {},
     "output_type": "execute_result"
    }
   ],
   "source": [
    "import pandas as pd\n",
    "c_names = ['post1', 'post2', 'post3', 'post4']\n",
    "words= ['ice', 'snow', 'tahoe', 'ghost', 'puck']\n",
    "post_words = pd.DataFrame([[4, 4, 6, 3],\n",
    "                           [6, 1, 0, 5],\n",
    "                           [3, 0, 0, 5],\n",
    "                           [0, 6, 5, 1],\n",
    "                           [0, 4, 5, 0]], index=words, columns=c_names)\n",
    "post_words.index.names = ['words:']\n",
    "post_words"
   ]
  },
  {
   "cell_type": "code",
   "execution_count": 4,
   "id": "32e0337c-d046-45b4-a147-14a4e42f466a",
   "metadata": {},
   "outputs": [
    {
     "name": "stdout",
     "output_type": "stream",
     "text": [
      "[[-0.4  -0.55 -0.61 -0.4 ]\n",
      " [-0.58  0.37  0.44 -0.58]\n",
      " [ 0.56 -0.46  0.41 -0.55]\n",
      " [-0.42 -0.59  0.52  0.45]]\n"
     ]
    }
   ],
   "source": [
    "import numpy as np\n",
    "\n",
    "U, sigma, V = np.linalg.svd(post_words)\n",
    "print(np.round(V, decimals=2))"
   ]
  },
  {
   "cell_type": "code",
   "execution_count": 5,
   "id": "ba4bd2c8-35a6-4008-abc8-89ce0dfc3160",
   "metadata": {},
   "outputs": [
    {
     "data": {
      "text/plain": [
       "array([13.55940373,  9.25515187,  2.06889804,  1.48472053])"
      ]
     },
     "execution_count": 5,
     "metadata": {},
     "output_type": "execute_result"
    }
   ],
   "source": [
    "sigma"
   ]
  },
  {
   "cell_type": "code",
   "execution_count": 8,
   "id": "fabde89e-204a-4385-b261-1f4723037ae4",
   "metadata": {},
   "outputs": [
    {
     "name": "stdout",
     "output_type": "stream",
     "text": [
      "          post1     post2     post3     post4\n",
      "ice    3.501303  4.788264  5.303188  3.479141\n",
      "snow   5.534524  0.532173  0.412075  5.484183\n",
      "tahoe  4.012803  0.069590 -0.059468  3.975616\n",
      "ghost  0.507972  5.117862  5.779698  0.514380\n",
      "puck  -0.008175  4.232570  4.794681  0.001110\n"
     ]
    }
   ],
   "source": [
    "A_approx = np.matrix(U[:, :2])* np.diag(sigma[:2]) * np.matrix(V[:2, :])\n",
    "print(pd.DataFrame(A_approx, index=words, columns=c_names))"
   ]
  },
  {
   "cell_type": "code",
   "execution_count": 9,
   "id": "980dddb2-82f9-4422-b495-fb29a2e66efe",
   "metadata": {},
   "outputs": [
    {
     "name": "stdout",
     "output_type": "stream",
     "text": [
      "           post1     post2     post3     post4\n",
      "words:                                        \n",
      "ice     0.498697 -0.788264  0.696812 -0.479141\n",
      "snow    0.465476  0.467827 -0.412075 -0.484183\n",
      "tahoe  -1.012803 -0.069590  0.059468  1.024384\n",
      "ghost  -0.507972  0.882138 -0.779698  0.485620\n",
      "puck    0.008175 -0.232570  0.205319 -0.001110\n"
     ]
    }
   ],
   "source": [
    "print(post_words - A_approx)"
   ]
  },
  {
   "cell_type": "code",
   "execution_count": 10,
   "id": "a93e5d92-9a47-4a22-93eb-c1bd591b49d8",
   "metadata": {},
   "outputs": [
    {
     "data": {
      "text/plain": [
       "<matplotlib.colorbar.Colorbar at 0x1ea3a943450>"
      ]
     },
     "execution_count": 10,
     "metadata": {},
     "output_type": "execute_result"
    },
    {
     "data": {
      "image/png": "[encoded data removed]",
      "text/plain": [
       "<Figure size 640x480 with 2 Axes>"
      ]
     },
     "metadata": {},
     "output_type": "display_data"
    }
   ],
   "source": [
    "import matplotlib.pyplot as plt\n",
    "\n",
    "plt.imshow(V, interpolation='none')\n",
    "plt.xticks(range(len(c_names)))\n",
    "plt.yticks(range(len(words)))\n",
    "plt.ylim([len(words) -1.5, -.5])\n",
    "ax= plt.gca()\n",
    "ax.set_xticklabels(c_names)\n",
    "ax.set_yticklabels(range(1, len(words) +1))\n",
    "plt.title(\"SVD\")\n",
    "plt.colorbar()"
   ]
  },
  {
   "cell_type": "code",
   "execution_count": 11,
   "id": "0bb29956-859f-4464-a6a9-a26631d9491e",
   "metadata": {},
   "outputs": [
    {
     "data": {
      "text/html": [
       "<div>\n",
       "<style scoped>\n",
       "    .dataframe tbody tr th:only-of-type {\n",
       "        vertical-align: middle;\n",
       "    }\n",
       "\n",
       "    .dataframe tbody tr th {\n",
       "        vertical-align: top;\n",
       "    }\n",
       "\n",
       "    .dataframe thead th {\n",
       "        text-align: right;\n",
       "    }\n",
       "</style>\n",
       "<table border=\"1\" class=\"dataframe\">\n",
       "  <thead>\n",
       "    <tr style=\"text-align: right;\">\n",
       "      <th></th>\n",
       "      <th>0</th>\n",
       "    </tr>\n",
       "  </thead>\n",
       "  <tbody>\n",
       "    <tr>\n",
       "      <th>ice</th>\n",
       "      <td>0.001447</td>\n",
       "    </tr>\n",
       "    <tr>\n",
       "      <th>snow</th>\n",
       "      <td>-0.651258</td>\n",
       "    </tr>\n",
       "    <tr>\n",
       "      <th>tahoe</th>\n",
       "      <td>-0.501568</td>\n",
       "    </tr>\n",
       "    <tr>\n",
       "      <th>ghost</th>\n",
       "      <td>0.411023</td>\n",
       "    </tr>\n",
       "    <tr>\n",
       "      <th>puck</th>\n",
       "      <td>0.394145</td>\n",
       "    </tr>\n",
       "  </tbody>\n",
       "</table>\n",
       "</div>"
      ],
      "text/plain": [
       "              0\n",
       "ice    0.001447\n",
       "snow  -0.651258\n",
       "tahoe -0.501568\n",
       "ghost  0.411023\n",
       "puck   0.394145"
      ]
     },
     "execution_count": 11,
     "metadata": {},
     "output_type": "execute_result"
    }
   ],
   "source": [
    "pd.DataFrame(U[:, 1], index=words)"
   ]
  }
 ],
 "metadata": {
  "kernelspec": {
   "display_name": "Python 3 (ipykernel)",
   "language": "python",
   "name": "python3"
  },
  "language_info": {
   "codemirror_mode": {
    "name": "ipython",
    "version": 3
   },
   "file_extension": ".py",
   "mimetype": "text/x-python",
   "name": "python",
   "nbconvert_exporter": "python",
   "pygments_lexer": "ipython3",
   "version": "3.11.7"
  }
 },
 "nbformat": 4,
 "nbformat_minor": 5
}
