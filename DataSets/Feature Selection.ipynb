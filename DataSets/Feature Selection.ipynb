{
 "cells": [
  {
   "cell_type": "code",
   "execution_count": 1,
   "id": "04b4d41c-fd04-4f50-bc36-89bab8364739",
   "metadata": {},
   "outputs": [
    {
     "ename": "NameError",
     "evalue": "name 'rfc' is not defined",
     "output_type": "error",
     "traceback": [
      "\u001b[1;31m---------------------------------------------------------------------------\u001b[0m",
      "\u001b[1;31mNameError\u001b[0m                                 Traceback (most recent call last)",
      "Cell \u001b[1;32mIn[1], line 78\u001b[0m\n\u001b[0;32m     75\u001b[0m         \u001b[38;5;28;01mreturn\u001b[39;00m X[:, \u001b[38;5;28mself\u001b[39m\u001b[38;5;241m.\u001b[39msupport_]\n\u001b[0;32m     77\u001b[0m \u001b[38;5;66;03m# Replace BorutaPy with FixedBorutaPy in your code\u001b[39;00m\n\u001b[1;32m---> 78\u001b[0m boruta_selector \u001b[38;5;241m=\u001b[39m FixedBorutaPy(rfc, n_estimators\u001b[38;5;241m=\u001b[39m\u001b[38;5;124m'\u001b[39m\u001b[38;5;124mauto\u001b[39m\u001b[38;5;124m'\u001b[39m, verbose\u001b[38;5;241m=\u001b[39m\u001b[38;5;241m2\u001b[39m, random_state\u001b[38;5;241m=\u001b[39m\u001b[38;5;241m1\u001b[39m)\n",
      "\u001b[1;31mNameError\u001b[0m: name 'rfc' is not defined"
     ]
    }
   ],
   "source": [
    "import numpy as np\n",
    "from sklearn.utils import check_X_y\n",
    "from sklearn.base import BaseEstimator, TransformerMixin\n",
    "from sklearn.utils.validation import check_is_fitted\n",
    "from sklearn.ensemble import RandomForestClassifier\n",
    "from sklearn.utils import check_random_state\n",
    "import logging\n",
    "\n",
    "\n",
    "class FixedBorutaPy(BaseEstimator, TransformerMixin):\n",
    "    def __init__(self, estimator, n_estimators='auto', perc=100, alpha=0.05, two_step=True,\n",
    "                 max_iter=100, random_state=None, verbose=0):\n",
    "        self.estimator = estimator\n",
    "        self.n_estimators = n_estimators\n",
    "        self.perc = perc\n",
    "        self.alpha = alpha\n",
    "        self.two_step = two_step\n",
    "        self.max_iter = max_iter\n",
    "        self.random_state = random_state\n",
    "        self.verbose = verbose\n",
    "\n",
    "    def fit(self, X, y):\n",
    "        return self._fit(X, y)\n",
    "\n",
    "    def _fit(self, X, y):\n",
    "        X, y = check_X_y(X, y)\n",
    "        self.random_state = check_random_state(self.random_state)\n",
    "        n_feat = X.shape[1]\n",
    "        dec_reg = np.zeros(n_feat, dtype=int)\n",
    "        hit_reg = np.zeros(n_feat, dtype=int)\n",
    "\n",
    "        iter_num = 0\n",
    "        while iter_num < self.max_iter:\n",
    "            iter_num += 1\n",
    "            if self.verbose > 0:\n",
    "                print(f\"Iteration: {iter_num}\")\n",
    "\n",
    "            forest = RandomForestClassifier(\n",
    "                n_estimators=self.n_estimators if isinstance(self.n_estimators, int) else 100,\n",
    "                n_jobs=-1, random_state=self.random_state)\n",
    "            forest.fit(X, y)\n",
    "\n",
    "            imp = forest.feature_importances_\n",
    "            median_imp = np.median(imp)\n",
    "\n",
    "            imp_shadow = np.zeros(n_feat)\n",
    "            for _ in range(5):\n",
    "                X_shadow = np.random.permutation(X)\n",
    "                forest_shadow = RandomForestClassifier(\n",
    "                    n_estimators=self.n_estimators if isinstance(self.n_estimators, int) else 100,\n",
    "                    n_jobs=-1, random_state=self.random_state)\n",
    "                forest_shadow.fit(X_shadow, y)\n",
    "                imp_shadow += forest_shadow.feature_importances_\n",
    "\n",
    "            imp_shadow /= 5\n",
    "            median_imp_shadow = np.median(imp_shadow)\n",
    "\n",
    "            for i in range(n_feat):\n",
    "                if imp[i] > median_imp_shadow:\n",
    "                    hit_reg[i] += 1\n",
    "                if imp[i] > median_imp:\n",
    "                    dec_reg[i] = 1\n",
    "                else:\n",
    "                    dec_reg[i] = -1\n",
    "\n",
    "            if np.all(hit_reg > 0):\n",
    "                break\n",
    "\n",
    "        self.support_ = dec_reg == 1\n",
    "        self.ranking_ = dec_reg\n",
    "        return self\n",
    "\n",
    "    def transform(self, X):\n",
    "        check_is_fitted(self, 'support_')\n",
    "        return X[:, self.support_]\n",
    "\n",
    "# Replace BorutaPy with FixedBorutaPy in your code\n",
    "boruta_selector = FixedBorutaPy(rfc, n_estimators='auto', verbose=2, random_state=1)"
   ]
  },
  {
   "cell_type": "code",
   "execution_count": null,
   "id": "e1191e5b-bd13-4d7f-8b86-5698c18b6ba0",
   "metadata": {},
   "outputs": [],
   "source": [
    "import pandas as pd\n",
    "import numpy as np\n",
    "from sklearn.ensemble import RandomForestClassifier\n",
    "from sklearn.compose import ColumnTransformer\n",
    "from sklearn.pipeline import Pipeline\n",
    "from sklearn.impute import SimpleImputer\n",
    "from sklearn.preprocessing import OneHotEncoder\n",
    "from sklearn.metrics import accuracy_score\n"
   ]
  },
  {
   "cell_type": "code",
   "execution_count": null,
   "id": "1c4d5e99-4945-4e1c-ace3-c9dcf5b88535",
   "metadata": {},
   "outputs": [],
   "source": [
    "data = pd.read_csv('dataset - 2020-09-24.csv')"
   ]
  },
  {
   "cell_type": "code",
   "execution_count": null,
   "id": "cf4f79ea-791d-468b-a6c5-9b3bbf12ab04",
   "metadata": {},
   "outputs": [],
   "source": [
    "data.info()"
   ]
  },
  {
   "cell_type": "code",
   "execution_count": 2,
   "id": "a8a8c244-b696-4451-b1e7-3444f2ff43b8",
   "metadata": {},
   "outputs": [
    {
     "ename": "NameError",
     "evalue": "name 'X_train' is not defined",
     "output_type": "error",
     "traceback": [
      "\u001b[1;31m---------------------------------------------------------------------------\u001b[0m",
      "\u001b[1;31mNameError\u001b[0m                                 Traceback (most recent call last)",
      "Cell \u001b[1;32mIn[2], line 1\u001b[0m\n\u001b[1;32m----> 1\u001b[0m categorical_features \u001b[38;5;241m=\u001b[39m X_train\u001b[38;5;241m.\u001b[39mselect_dtypes(include\u001b[38;5;241m=\u001b[39m[\u001b[38;5;124m'\u001b[39m\u001b[38;5;124mobject\u001b[39m\u001b[38;5;124m'\u001b[39m])\u001b[38;5;241m.\u001b[39mcolumns\n\u001b[0;32m      2\u001b[0m numerical_features \u001b[38;5;241m=\u001b[39m X_train\u001b[38;5;241m.\u001b[39mselect_dtypes(include\u001b[38;5;241m=\u001b[39m[\u001b[38;5;124m'\u001b[39m\u001b[38;5;124mnumber\u001b[39m\u001b[38;5;124m'\u001b[39m])\u001b[38;5;241m.\u001b[39mcolumns\n",
      "\u001b[1;31mNameError\u001b[0m: name 'X_train' is not defined"
     ]
    }
   ],
   "source": [
    "categorical_features = X_train.select_dtypes(include=['object']).columns\n",
    "numerical_features = X_train.select_dtypes(include=['number']).columns\n"
   ]
  },
  {
   "cell_type": "code",
   "execution_count": 3,
   "id": "a41ee52a-40b5-4655-8822-cae813796a6a",
   "metadata": {},
   "outputs": [
    {
     "ename": "NameError",
     "evalue": "name 'ColumnTransformer' is not defined",
     "output_type": "error",
     "traceback": [
      "\u001b[1;31m---------------------------------------------------------------------------\u001b[0m",
      "\u001b[1;31mNameError\u001b[0m                                 Traceback (most recent call last)",
      "Cell \u001b[1;32mIn[3], line 1\u001b[0m\n\u001b[1;32m----> 1\u001b[0m preprocessor \u001b[38;5;241m=\u001b[39m ColumnTransformer(\n\u001b[0;32m      2\u001b[0m     transformers\u001b[38;5;241m=\u001b[39m[\n\u001b[0;32m      3\u001b[0m         (\u001b[38;5;124m'\u001b[39m\u001b[38;5;124mnum\u001b[39m\u001b[38;5;124m'\u001b[39m, SimpleImputer(strategy\u001b[38;5;241m=\u001b[39m\u001b[38;5;124m'\u001b[39m\u001b[38;5;124mmedian\u001b[39m\u001b[38;5;124m'\u001b[39m), numerical_features),\n\u001b[0;32m      4\u001b[0m         (\u001b[38;5;124m'\u001b[39m\u001b[38;5;124mcat\u001b[39m\u001b[38;5;124m'\u001b[39m, OneHotEncoder(handle_unknown\u001b[38;5;241m=\u001b[39m\u001b[38;5;124m'\u001b[39m\u001b[38;5;124mignore\u001b[39m\u001b[38;5;124m'\u001b[39m), categorical_features)\n\u001b[0;32m      5\u001b[0m     ])\n",
      "\u001b[1;31mNameError\u001b[0m: name 'ColumnTransformer' is not defined"
     ]
    }
   ],
   "source": [
    "preprocessor = ColumnTransformer(\n",
    "    transformers=[\n",
    "        ('num', SimpleImputer(strategy='median'), numerical_features),\n",
    "        ('cat', OneHotEncoder(handle_unknown='ignore'), categorical_features)\n",
    "    ])"
   ]
  },
  {
   "cell_type": "code",
   "execution_count": 63,
   "id": "dfd0bdba-a46b-42cb-96bb-17dcdf8058ab",
   "metadata": {},
   "outputs": [],
   "source": [
    "X_train_processed = preprocessor.fit_transform(X_train)\n",
    "X_test_processed = preprocessor.transform(X_test)"
   ]
  },
  {
   "cell_type": "code",
   "execution_count": 64,
   "id": "df221fcb-1747-4fca-9593-e43438b93c0e",
   "metadata": {},
   "outputs": [],
   "source": [
    "if hasattr(X_train_processed, \"toarray\"):\n",
    "    X_train_processed = X_train_processed.toarray()\n",
    "if hasattr(X_test_processed, \"toarray\"):\n",
    "    X_test_processed = X_test_processed.toarray()\n"
   ]
  },
  {
   "cell_type": "code",
   "execution_count": 65,
   "id": "5c94b40f-8ad7-4aab-93f8-6db514daf0e2",
   "metadata": {},
   "outputs": [],
   "source": [
    "rfc = RandomForestClassifier(random_state=1, n_estimators=1000, max_depth=5)"
   ]
  },
  {
   "cell_type": "code",
   "execution_count": 66,
   "id": "fb48c60f-5b42-40f7-953c-8b3ab13594af",
   "metadata": {},
   "outputs": [],
   "source": [
    "boruta_selector = FixedBorutaPy(rfc, n_estimators='auto', verbose=2, random_state=1)"
   ]
  },
  {
   "cell_type": "code",
   "execution_count": 67,
   "id": "424fdb72-76d6-47a6-b263-257531e47a18",
   "metadata": {},
   "outputs": [
    {
     "name": "stdout",
     "output_type": "stream",
     "text": [
      "Iteration: 1\n",
      "Iteration: 2\n",
      "Iteration: 3\n",
      "Iteration: 4\n",
      "Iteration: 5\n",
      "Iteration: 6\n",
      "Iteration: 7\n",
      "Iteration: 8\n",
      "Iteration: 9\n",
      "Iteration: 10\n",
      "Iteration: 11\n",
      "Iteration: 12\n",
      "Iteration: 13\n",
      "Iteration: 14\n",
      "Iteration: 15\n",
      "Iteration: 16\n",
      "Iteration: 17\n",
      "Iteration: 18\n",
      "Iteration: 19\n",
      "Iteration: 20\n",
      "Iteration: 21\n",
      "Iteration: 22\n",
      "Iteration: 23\n",
      "Iteration: 24\n",
      "Iteration: 25\n",
      "Iteration: 26\n",
      "Iteration: 27\n",
      "Iteration: 28\n",
      "Iteration: 29\n",
      "Iteration: 30\n",
      "Iteration: 31\n",
      "Iteration: 32\n",
      "Iteration: 33\n",
      "Iteration: 34\n",
      "Iteration: 35\n",
      "Iteration: 36\n",
      "Iteration: 37\n",
      "Iteration: 38\n",
      "Iteration: 39\n",
      "Iteration: 40\n",
      "Iteration: 41\n",
      "Iteration: 42\n",
      "Iteration: 43\n",
      "Iteration: 44\n",
      "Iteration: 45\n",
      "Iteration: 46\n",
      "Iteration: 47\n",
      "Iteration: 48\n",
      "Iteration: 49\n",
      "Iteration: 50\n",
      "Iteration: 51\n",
      "Iteration: 52\n",
      "Iteration: 53\n",
      "Iteration: 54\n",
      "Iteration: 55\n",
      "Iteration: 56\n",
      "Iteration: 57\n",
      "Iteration: 58\n",
      "Iteration: 59\n",
      "Iteration: 60\n",
      "Iteration: 61\n",
      "Iteration: 62\n",
      "Iteration: 63\n",
      "Iteration: 64\n",
      "Iteration: 65\n",
      "Iteration: 66\n",
      "Iteration: 67\n",
      "Iteration: 68\n",
      "Iteration: 69\n",
      "Iteration: 70\n",
      "Iteration: 71\n",
      "Iteration: 72\n",
      "Iteration: 73\n",
      "Iteration: 74\n",
      "Iteration: 75\n",
      "Iteration: 76\n",
      "Iteration: 77\n",
      "Iteration: 78\n",
      "Iteration: 79\n",
      "Iteration: 80\n",
      "Iteration: 81\n",
      "Iteration: 82\n",
      "Iteration: 83\n",
      "Iteration: 84\n",
      "Iteration: 85\n",
      "Iteration: 86\n",
      "Iteration: 87\n",
      "Iteration: 88\n",
      "Iteration: 89\n",
      "Iteration: 90\n",
      "Iteration: 91\n",
      "Iteration: 92\n",
      "Iteration: 93\n",
      "Iteration: 94\n",
      "Iteration: 95\n",
      "Iteration: 96\n",
      "Iteration: 97\n",
      "Iteration: 98\n",
      "Iteration: 99\n",
      "Iteration: 100\n"
     ]
    }
   ],
   "source": [
    "try:\n",
    "    boruta_selector.fit(X_train_processed, y_train)\n",
    "except Exception as e:\n",
    "    print(\"An error occurred during Boruta fitting:\", e)\n",
    "    raise\n"
   ]
  },
  {
   "cell_type": "code",
   "execution_count": 82,
   "id": "f72f05fc-5028-46c1-82b3-9c2bbfbc4bdd",
   "metadata": {},
   "outputs": [
    {
     "name": "stdout",
     "output_type": "stream",
     "text": [
      "Iteration: 1\n",
      "Iteration: 2\n",
      "Iteration: 3\n",
      "Iteration: 4\n",
      "Iteration: 5\n",
      "Iteration: 6\n",
      "Iteration: 7\n",
      "Iteration: 8\n",
      "Iteration: 9\n",
      "Iteration: 10\n",
      "Iteration: 11\n",
      "Iteration: 12\n",
      "Iteration: 13\n",
      "Iteration: 14\n",
      "Iteration: 15\n",
      "Iteration: 16\n",
      "Iteration: 17\n",
      "Iteration: 18\n",
      "Iteration: 19\n",
      "Iteration: 20\n",
      "Iteration: 21\n",
      "Iteration: 22\n",
      "Iteration: 23\n",
      "Iteration: 24\n",
      "Iteration: 25\n",
      "Iteration: 26\n",
      "Iteration: 27\n",
      "Iteration: 28\n",
      "Iteration: 29\n",
      "Iteration: 30\n",
      "Iteration: 31\n",
      "Iteration: 32\n",
      "Iteration: 33\n",
      "Iteration: 34\n",
      "Iteration: 35\n",
      "Iteration: 36\n",
      "Iteration: 37\n",
      "Iteration: 38\n",
      "Iteration: 39\n",
      "Iteration: 40\n",
      "Iteration: 41\n",
      "Iteration: 42\n",
      "Iteration: 43\n",
      "Iteration: 44\n",
      "Iteration: 45\n",
      "Iteration: 46\n",
      "Iteration: 47\n",
      "Iteration: 48\n",
      "Iteration: 49\n",
      "Iteration: 50\n",
      "Iteration: 51\n",
      "Iteration: 52\n",
      "Iteration: 53\n",
      "Iteration: 54\n",
      "Iteration: 55\n",
      "Iteration: 56\n",
      "Iteration: 57\n",
      "Iteration: 58\n",
      "Iteration: 59\n",
      "Iteration: 60\n",
      "Iteration: 61\n",
      "Iteration: 62\n",
      "Iteration: 63\n",
      "Iteration: 64\n",
      "Iteration: 65\n",
      "Iteration: 66\n",
      "Iteration: 67\n",
      "Iteration: 68\n",
      "Iteration: 69\n",
      "Iteration: 70\n",
      "Iteration: 71\n",
      "Iteration: 72\n",
      "Iteration: 73\n",
      "Iteration: 74\n",
      "Iteration: 75\n",
      "Iteration: 76\n",
      "Iteration: 77\n",
      "Iteration: 78\n",
      "Iteration: 79\n",
      "Iteration: 80\n",
      "Iteration: 81\n",
      "Iteration: 82\n",
      "Iteration: 83\n",
      "Iteration: 84\n",
      "Iteration: 85\n",
      "Iteration: 86\n",
      "Iteration: 87\n",
      "Iteration: 88\n",
      "Iteration: 89\n",
      "Iteration: 90\n",
      "Iteration: 91\n",
      "Iteration: 92\n",
      "Iteration: 93\n",
      "Iteration: 94\n",
      "Iteration: 95\n",
      "Iteration: 96\n",
      "Iteration: 97\n",
      "Iteration: 98\n",
      "Iteration: 99\n",
      "Iteration: 100\n"
     ]
    }
   ],
   "source": [
    "try:\n",
    "    boruta_selector.fit(X_train_processed, y_train)\n",
    "except Exception as e:\n",
    "    print(\"An error occurred during Boruta fitting:\", e)\n",
    "    raise\n"
   ]
  },
  {
   "cell_type": "code",
   "execution_count": 83,
   "id": "d57a86ac-5b31-4727-af64-e69bf70d4312",
   "metadata": {},
   "outputs": [],
   "source": [
    "try:\n",
    "    X_train_boruta = boruta_selector.transform(X_train_processed)\n",
    "    X_test_boruta = boruta_selector.transform(X_test_processed)\n",
    "except Exception as e:\n",
    "    print(\"An error occurred during Boruta transformation:\", e)\n",
    "    raise\n"
   ]
  },
  {
   "cell_type": "code",
   "execution_count": 84,
   "id": "a621ae81-8036-458c-8a52-6c5198636cf4",
   "metadata": {},
   "outputs": [
    {
     "name": "stdout",
     "output_type": "stream",
     "text": [
      "Accuracy: 0.9478260869565217\n"
     ]
    }
   ],
   "source": [
    "rfc.fit(X_train_boruta, y_train)\n",
    "y_pred = rfc.predict(X_test_boruta)\n",
    "accuracy = accuracy_score(y_test, y_pred)\n",
    "print(\"Accuracy:\", accuracy)"
   ]
  },
  {
   "cell_type": "code",
   "execution_count": 87,
   "id": "e2ca34bb-daa0-4051-9e1f-9d3566762310",
   "metadata": {},
   "outputs": [],
   "source": [
    "rfc = RandomForestClassifier(random_state=1, n_estimators=1000, max_depth=5)\n",
    "boruta_selector = BorutaPy(rfc, n_estimators='auto', verbose=2, random_state=1)\n"
   ]
  },
  {
   "cell_type": "code",
   "execution_count": 90,
   "id": "49e7019a-4830-4b0a-b5b1-62ce5a631d75",
   "metadata": {},
   "outputs": [],
   "source": [
    "BorutaPy._fit = BorutaPy._fit.__code__.replace(co_consts=(int,) + BorutaPy._fit.__code__.co_consts[1:])\n",
    "BorutaPy._transform = BorutaPy._transform.__code__.replace(co_consts=(int,) + BorutaPy._transform.__code__.co_consts[1:])\n"
   ]
  },
  {
   "cell_type": "code",
   "execution_count": 105,
   "id": "7ceb1f31-9dbc-4a1a-a149-af1ab8a8ba4b",
   "metadata": {},
   "outputs": [
    {
     "name": "stdout",
     "output_type": "stream",
     "text": [
      "An error occurred during Boruta fitting or transformation: 'code' object is not callable\n"
     ]
    },
    {
     "ename": "TypeError",
     "evalue": "'code' object is not callable",
     "output_type": "error",
     "traceback": [
      "\u001b[1;31m---------------------------------------------------------------------------\u001b[0m",
      "\u001b[1;31mTypeError\u001b[0m                                 Traceback (most recent call last)",
      "Cell \u001b[1;32mIn[105], line 9\u001b[0m\n\u001b[0;32m      6\u001b[0m boruta_selector \u001b[38;5;241m=\u001b[39m BorutaPy(rfc, n_estimators\u001b[38;5;241m=\u001b[39m\u001b[38;5;124m'\u001b[39m\u001b[38;5;124mauto\u001b[39m\u001b[38;5;124m'\u001b[39m, verbose\u001b[38;5;241m=\u001b[39m\u001b[38;5;241m2\u001b[39m, random_state\u001b[38;5;241m=\u001b[39m\u001b[38;5;241m1\u001b[39m)\n\u001b[0;32m      8\u001b[0m \u001b[38;5;66;03m# Fit BorutaPy on the training data\u001b[39;00m\n\u001b[1;32m----> 9\u001b[0m boruta_selector\u001b[38;5;241m.\u001b[39mfit(X_train_processed, y_train)\n\u001b[0;32m     11\u001b[0m \u001b[38;5;66;03m# Transform the training data\u001b[39;00m\n\u001b[0;32m     12\u001b[0m X_train_boruta \u001b[38;5;241m=\u001b[39m boruta_selector\u001b[38;5;241m.\u001b[39mtransform(X_train_processed)\n",
      "File \u001b[1;32m~\\anaconda3\\Lib\\site-packages\\boruta\\boruta_py.py:201\u001b[0m, in \u001b[0;36mBorutaPy.fit\u001b[1;34m(self, X, y)\u001b[0m\n\u001b[0;32m    188\u001b[0m \u001b[38;5;28;01mdef\u001b[39;00m \u001b[38;5;21mfit\u001b[39m(\u001b[38;5;28mself\u001b[39m, X, y):\n\u001b[0;32m    189\u001b[0m \u001b[38;5;250m    \u001b[39m\u001b[38;5;124;03m\"\"\"\u001b[39;00m\n\u001b[0;32m    190\u001b[0m \u001b[38;5;124;03m    Fits the Boruta feature selection with the provided estimator.\u001b[39;00m\n\u001b[0;32m    191\u001b[0m \n\u001b[1;32m   (...)\u001b[0m\n\u001b[0;32m    198\u001b[0m \u001b[38;5;124;03m        The target values.\u001b[39;00m\n\u001b[0;32m    199\u001b[0m \u001b[38;5;124;03m    \"\"\"\u001b[39;00m\n\u001b[1;32m--> 201\u001b[0m     \u001b[38;5;28;01mreturn\u001b[39;00m \u001b[38;5;28mself\u001b[39m\u001b[38;5;241m.\u001b[39m_fit(X, y)\n",
      "\u001b[1;31mTypeError\u001b[0m: 'code' object is not callable"
     ]
    }
   ],
   "source": [
    "try:\n",
    "    # Initialize RandomForestClassifier\n",
    "    rfc = RandomForestClassifier(random_state=1, n_estimators=1000, max_depth=5)\n",
    "\n",
    "    # Initialize BorutaPy feature selector\n",
    "    boruta_selector = BorutaPy(rfc, n_estimators='auto', verbose=2, random_state=1)\n",
    "\n",
    "    # Fit BorutaPy on the training data\n",
    "    boruta_selector.fit(X_train_processed, y_train)\n",
    "    \n",
    "    # Transform the training data\n",
    "    X_train_boruta = boruta_selector.transform(X_train_processed)\n",
    "    \n",
    "    # Transform the test data\n",
    "    X_test_boruta = boruta_selector.transform(X_test_processed)\n",
    "    \n",
    "    # Train RandomForestClassifier on Boruta-selected features\n",
    "    rfc.fit(X_train_boruta, y_train)\n",
    "    \n",
    "    # Predict on test data\n",
    "    y_pred = rfc.predict(X_test_boruta)\n",
    "    \n",
    "    # Evaluate accuracy\n",
    "    accuracy = accuracy_score(y_test, y_pred)\n",
    "    print(\"Accuracy:\", accuracy)\n",
    "\n",
    "except Exception as e:\n",
    "    print(\"An error occurred during Boruta fitting or transformation:\", e)\n",
    "    raise"
   ]
  },
  {
   "cell_type": "code",
   "execution_count": null,
   "id": "7cdced64-d584-4aa5-829c-ea3ac8769ad2",
   "metadata": {},
   "outputs": [],
   "source": []
  }
 ],
 "metadata": {
  "kernelspec": {
   "display_name": "Python 3 (ipykernel)",
   "language": "python",
   "name": "python3"
  },
  "language_info": {
   "codemirror_mode": {
    "name": "ipython",
    "version": 3
   },
   "file_extension": ".py",
   "mimetype": "text/x-python",
   "name": "python",
   "nbconvert_exporter": "python",
   "pygments_lexer": "ipython3",
   "version": "3.11.7"
  }
 },
 "nbformat": 4,
 "nbformat_minor": 5
}
