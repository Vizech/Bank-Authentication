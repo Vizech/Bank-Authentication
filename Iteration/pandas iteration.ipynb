{
 "cells": [
  {
   "cell_type": "code",
   "execution_count": 1,
   "id": "1b374448-f500-4bc1-91b3-9c9b6f071825",
   "metadata": {},
   "outputs": [
    {
     "name": "stdout",
     "output_type": "stream",
     "text": [
      "Defaulting to user installation because normal site-packages is not writeable\n",
      "Requirement already satisfied: xlrd in c:\\users\\vizech\\appdata\\roaming\\python\\python312\\site-packages (2.0.1)\n",
      "Note: you may need to restart the kernel to use updated packages.\n"
     ]
    }
   ],
   "source": [
    "pip install xlrd\n"
   ]
  },
  {
   "cell_type": "code",
   "execution_count": 2,
   "id": "e97f90a7-ac9f-4e94-8b57-0ea9592cd7ca",
   "metadata": {},
   "outputs": [],
   "source": [
    "import pandas as pd"
   ]
  },
  {
   "cell_type": "code",
   "execution_count": 3,
   "id": "fbbb6d95-ef7e-4e6d-b15e-70ce0d648e4d",
   "metadata": {},
   "outputs": [],
   "source": [
    "otcm1 = pd.read_excel(\"Iteration.xls\")\n"
   ]
  },
  {
   "cell_type": "code",
   "execution_count": 4,
   "id": "8cb49595-8dc1-435a-af10-c808c4eaf2de",
   "metadata": {},
   "outputs": [
    {
     "name": "stdout",
     "output_type": "stream",
     "text": [
      "Index(['problem ', 'Medicine', 'Dosage'], dtype='object')\n"
     ]
    }
   ],
   "source": [
    "print(otcm1.columns)\n"
   ]
  },
  {
   "cell_type": "code",
   "execution_count": 5,
   "id": "8e8c55e3-dc88-4933-8da6-120267d77123",
   "metadata": {},
   "outputs": [],
   "source": [
    "otcm1.columns = otcm1.columns.str.strip()\n"
   ]
  },
  {
   "cell_type": "code",
   "execution_count": 6,
   "id": "bc0d073d-a02d-45de-a89a-3b49b0a28754",
   "metadata": {},
   "outputs": [
    {
     "name": "stdout",
     "output_type": "stream",
     "text": [
      "Headache  Anacin\n",
      "Body Ache ibuprofen \n",
      "Fever Dolo650\n",
      "Cough strepsils\n",
      "Sore Throat Tylenol \n",
      "Allergies  Benadryl \n",
      "Indigestion  Lopermide\n"
     ]
    }
   ],
   "source": [
    "for i in otcm1.index:\n",
    "    print(otcm1['problem'][i], otcm1['Medicine'][i])\n",
    "\n"
   ]
  },
  {
   "cell_type": "code",
   "execution_count": 7,
   "id": "fce90c45-5ebd-4c86-b2f1-b918381c3638",
   "metadata": {},
   "outputs": [
    {
     "name": "stdout",
     "output_type": "stream",
     "text": [
      "Headache  Anacin One time\n",
      "Body Ache ibuprofen  3times a day\n",
      "Fever Dolo650 3times a day, for 3days\n",
      "Cough strepsils 3times a day, for 2 days\n",
      "Sore Throat Tylenol  3 times a day\n",
      "Allergies  Benadryl  1time in the night for 2 days\n",
      "Indigestion  Lopermide 2 times a day\n"
     ]
    }
   ],
   "source": [
    "for i in range(len(otcm1)):\n",
    " print(otcm1.iloc[i, 0], otcm1.iloc[i, 1], otcm1.iloc[i, 2])"
   ]
  },
  {
   "cell_type": "code",
   "execution_count": 8,
   "id": "142af116-b5b8-4e1b-a8ff-d29bdfe29c1e",
   "metadata": {},
   "outputs": [
    {
     "name": "stdout",
     "output_type": "stream",
     "text": [
      "Index(['problem', 'Medicine', 'Dosage'], dtype='object')\n",
      "       problem    Medicine                    Dosage\n",
      "0    Headache       Anacin                  One time\n",
      "1    Body Ache  ibuprofen               3times a day\n",
      "2        Fever     Dolo650   3times a day, for 3days\n",
      "3        Cough   strepsils  3times a day, for 2 days\n",
      "4  Sore Throat    Tylenol              3 times a day\n",
      "Headache  Anacin One time\n",
      "Body Ache ibuprofen  3times a day\n",
      "Fever Dolo650 3times a day, for 3days\n",
      "Cough strepsils 3times a day, for 2 days\n",
      "Sore Throat Tylenol  3 times a day\n",
      "Allergies  Benadryl  1time in the night for 2 days\n",
      "Indigestion  Lopermide 2 times a day\n"
     ]
    }
   ],
   "source": [
    "# Check column names and their order\n",
    "print(otcm1.columns)\n",
    "\n",
    "# Print first few rows to confirm data\n",
    "print(otcm1.head())\n",
    "\n",
    "# Print specific columns for each row\n",
    "for i in range(len(otcm1)):\n",
    "    print(otcm1.iloc[i, 0], otcm1.iloc[i, 1], otcm1.iloc[i, 2])\n"
   ]
  },
  {
   "cell_type": "code",
   "execution_count": 12,
   "id": "cbf224c8-5218-429a-ab0f-e7091c056d10",
   "metadata": {},
   "outputs": [
    {
     "name": "stdout",
     "output_type": "stream",
     "text": [
      "Index(['problem', 'Medicine', 'Dosage'], dtype='object')\n"
     ]
    }
   ],
   "source": [
    "print(otcm1.columns)\n"
   ]
  },
  {
   "cell_type": "code",
   "execution_count": 13,
   "id": "4d38a7fd-3261-4c28-bc3c-ba8244ef8a1a",
   "metadata": {},
   "outputs": [
    {
     "name": "stdout",
     "output_type": "stream",
     "text": [
      "Headache  One time\n",
      "Body Ache 3times a day\n",
      "Fever 3times a day, for 3days\n",
      "Cough 3times a day, for 2 days\n",
      "Sore Throat 3 times a day\n",
      "Allergies  1time in the night for 2 days\n",
      "Indigestion  2 times a day\n"
     ]
    }
   ],
   "source": [
    "for index, row in otcm1.iterrows():\n",
    "    print(row[\"problem\"], row[\"Dosage\"])\n"
   ]
  },
  {
   "cell_type": "code",
   "execution_count": 15,
   "id": "397d2911-cb27-4ce4-ade0-7153575804f6",
   "metadata": {},
   "outputs": [
    {
     "name": "stdout",
     "output_type": "stream",
     "text": [
      "0          Anacin--is for-->Headache \n",
      "1      ibuprofen --is for-->Body Ache\n",
      "2             Dolo650--is for-->Fever\n",
      "3           strepsils--is for-->Cough\n",
      "4      Tylenol --is for-->Sore Throat\n",
      "5      Benadryl --is for-->Allergies \n",
      "6    Lopermide--is for-->Indigestion \n",
      "dtype: object\n"
     ]
    }
   ],
   "source": [
    "print(otcm1.apply(lambda row:row[\"Medicine\"]+\"--is for-->\"+\n",
    "      str(row[\"problem\"]),axis = 1))"
   ]
  }
 ],
 "metadata": {
  "kernelspec": {
   "display_name": "Python 3 (ipykernel)",
   "language": "python",
   "name": "python3"
  },
  "language_info": {
   "codemirror_mode": {
    "name": "ipython",
    "version": 3
   },
   "file_extension": ".py",
   "mimetype": "text/x-python",
   "name": "python",
   "nbconvert_exporter": "python",
   "pygments_lexer": "ipython3",
   "version": "3.12.4"
  }
 },
 "nbformat": 4,
 "nbformat_minor": 5
}
