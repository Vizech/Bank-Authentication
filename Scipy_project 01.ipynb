{
 "cells": [
  {
   "cell_type": "code",
   "execution_count": 1,
   "id": "ebd039e7-8c40-4a64-842c-6b78b7747c03",
   "metadata": {},
   "outputs": [],
   "source": [
    "import numpy as np\n",
    "from scipy import linalg"
   ]
  },
  {
   "cell_type": "code",
   "execution_count": 3,
   "id": "08c1f54f-8400-48d1-9961-4353a484c271",
   "metadata": {},
   "outputs": [],
   "source": [
    "testQuestionVariable = np.array([[1,1],[4,9]])\n",
    "testQuestionValue = np.array([30,150])"
   ]
  },
  {
   "cell_type": "code",
   "execution_count": 4,
   "id": "e0aae530-ffe2-4878-93d0-78de40b60422",
   "metadata": {},
   "outputs": [
    {
     "data": {
      "text/plain": [
       "array([24.,  6.])"
      ]
     },
     "execution_count": 4,
     "metadata": {},
     "output_type": "execute_result"
    }
   ],
   "source": [
    "linalg.solve(testQuestionVariable,testQuestionValue)"
   ]
  }
 ],
 "metadata": {
  "kernelspec": {
   "display_name": "Python 3 (ipykernel)",
   "language": "python",
   "name": "python3"
  },
  "language_info": {
   "codemirror_mode": {
    "name": "ipython",
    "version": 3
   },
   "file_extension": ".py",
   "mimetype": "text/x-python",
   "name": "python",
   "nbconvert_exporter": "python",
   "pygments_lexer": "ipython3",
   "version": "3.12.4"
  }
 },
 "nbformat": 4,
 "nbformat_minor": 5
}
