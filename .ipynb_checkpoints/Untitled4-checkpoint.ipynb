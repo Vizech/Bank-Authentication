{
 "cells": [
  {
   "cell_type": "code",
   "execution_count": 1,
   "id": "df9520af-ac95-48af-bace-9dfaff5bd88c",
   "metadata": {},
   "outputs": [],
   "source": [
    "import numpy as np"
   ]
  },
  {
   "cell_type": "code",
   "execution_count": 6,
   "id": "cdefcfc9-ef49-4b2c-b3ca-02cba0b92cd3",
   "metadata": {},
   "outputs": [],
   "source": [
    "X = np.array([i for i in range(10)])\n"
   ]
  },
  {
   "cell_type": "code",
   "execution_count": 7,
   "id": "57a9bb8e-bdcd-4572-80fb-fa2fca36527e",
   "metadata": {},
   "outputs": [
    {
     "data": {
      "text/plain": [
       "array([0, 1, 2, 3, 4, 5, 6, 7, 8, 9])"
      ]
     },
     "execution_count": 7,
     "metadata": {},
     "output_type": "execute_result"
    }
   ],
   "source": [
    "X"
   ]
  },
  {
   "cell_type": "code",
   "execution_count": 9,
   "id": "c5d40c51-1459-45ce-b577-85f138ff81b9",
   "metadata": {},
   "outputs": [
    {
     "data": {
      "text/plain": [
       "array(['Even', 'odd', 'Even', 'odd', 'Even', 'odd', 'Even', 'odd', 'Even',\n",
       "       'odd'], dtype='<U4')"
      ]
     },
     "execution_count": 9,
     "metadata": {},
     "output_type": "execute_result"
    }
   ],
   "source": [
    "np.where(X%2==0,'Even','odd')"
   ]
  },
  {
   "cell_type": "code",
   "execution_count": 17,
   "id": "bc10a50a-6862-4322-b584-38f7fb2b614a",
   "metadata": {},
   "outputs": [],
   "source": [
    "CondList = [X < 5, X > 5]"
   ]
  },
  {
   "cell_type": "code",
   "execution_count": 18,
   "id": "ecc45e16-a21e-4cf8-aa93-59e47cabb79e",
   "metadata": {},
   "outputs": [],
   "source": [
    "CondList = [X < 5, X > 5]\n",
    "ChoiceList = [X**2, X**3]\n"
   ]
  },
  {
   "cell_type": "code",
   "execution_count": 19,
   "id": "58e266bc-95a9-4cfc-8cbe-ba24defd84d6",
   "metadata": {},
   "outputs": [
    {
     "data": {
      "text/plain": [
       "array([  0,   1,   4,   9,  16,   5, 216, 343, 512, 729])"
      ]
     },
     "execution_count": 19,
     "metadata": {},
     "output_type": "execute_result"
    }
   ],
   "source": [
    "np.select(CondList,ChoiceList,default=X)"
   ]
  }
 ],
 "metadata": {
  "kernelspec": {
   "display_name": "Python 3 (ipykernel)",
   "language": "python",
   "name": "python3"
  },
  "language_info": {
   "codemirror_mode": {
    "name": "ipython",
    "version": 3
   },
   "file_extension": ".py",
   "mimetype": "text/x-python",
   "name": "python",
   "nbconvert_exporter": "python",
   "pygments_lexer": "ipython3",
   "version": "3.12.4"
  }
 },
 "nbformat": 4,
 "nbformat_minor": 5
}
