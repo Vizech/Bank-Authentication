{
 "cells": [
  {
   "cell_type": "code",
   "execution_count": 1,
   "id": "3c837702-fee1-4a23-b042-dc3b8b570205",
   "metadata": {},
   "outputs": [],
   "source": [
    "data = [30, 26, 33, 26, 26, 33, 31, 31, 21, 37,\n",
    "        27, 20, 34, 35, 30, 24, 38, 34, 39, 31,\n",
    "        22, 30, 23, 23, 31, 44, 31, 33, 33, 26,\n",
    "        27, 28, 25, 35, 23, 32, 29, 31, 25, 27]"
   ]
  },
  {
   "cell_type": "code",
   "execution_count": 2,
   "id": "ba72417d-5dab-4df9-b278-4c7d4b9d09c5",
   "metadata": {},
   "outputs": [],
   "source": [
    "n = len(data)"
   ]
  },
  {
   "cell_type": "code",
   "execution_count": 3,
   "id": "54f12c5c-cb83-43b2-b405-32f86429ed61",
   "metadata": {},
   "outputs": [],
   "source": [
    "sample_mean = sum(data)/ n"
   ]
  },
  {
   "cell_type": "code",
   "execution_count": 4,
   "id": "14e675a5-f6ca-48d6-a14b-7dc54323f794",
   "metadata": {},
   "outputs": [
    {
     "name": "stdout",
     "output_type": "stream",
     "text": [
      "sample mean:  29.6\n"
     ]
    }
   ],
   "source": [
    "print('sample mean: ', sample_mean)"
   ]
  },
  {
   "cell_type": "code",
   "execution_count": null,
   "id": "97648e54-8b69-4a2d-8943-25413b1b62a7",
   "metadata": {},
   "outputs": [],
   "source": []
  }
 ],
 "metadata": {
  "kernelspec": {
   "display_name": "Python 3 (ipykernel)",
   "language": "python",
   "name": "python3"
  },
  "language_info": {
   "codemirror_mode": {
    "name": "ipython",
    "version": 3
   },
   "file_extension": ".py",
   "mimetype": "text/x-python",
   "name": "python",
   "nbconvert_exporter": "python",
   "pygments_lexer": "ipython3",
   "version": "3.12.4"
  }
 },
 "nbformat": 4,
 "nbformat_minor": 5
}
