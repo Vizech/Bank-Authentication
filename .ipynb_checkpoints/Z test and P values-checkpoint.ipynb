{
 "cells": [
  {
   "cell_type": "code",
   "execution_count": 12,
   "id": "36bc8b6b-e16c-4f99-84dd-088a833c010f",
   "metadata": {},
   "outputs": [],
   "source": [
    "import random\n",
    "random.seed(20)\n",
    "from statsmodels.stats.weightstats import ztest as ztest"
   ]
  },
  {
   "cell_type": "markdown",
   "id": "bcd12b26-22c6-4fb9-87bc-af71681fe624",
   "metadata": {},
   "source": [
    "$ \\mu = 100 $ <br>\n",
    "$ \\sigma = 15 $"
   ]
  },
  {
   "cell_type": "code",
   "execution_count": 13,
   "id": "f499ae11-328c-42b5-a3c3-56fbc93b4352",
   "metadata": {},
   "outputs": [],
   "source": [
    "a = [random.gauss(100,15) for x in range(40)]"
   ]
  },
  {
   "cell_type": "code",
   "execution_count": 14,
   "id": "28c88af9-d1fe-44b5-84cf-47495e217314",
   "metadata": {},
   "outputs": [
    {
     "data": {
      "text/plain": [
       "(1.3430675401429018, 0.17925010504664385)"
      ]
     },
     "execution_count": 14,
     "metadata": {},
     "output_type": "execute_result"
    }
   ],
   "source": [
    "ztest(a,value = 100)"
   ]
  },
  {
   "cell_type": "code",
   "execution_count": 15,
   "id": "b637a5d8-fa07-4f28-ad9b-78bdc536baee",
   "metadata": {},
   "outputs": [],
   "source": [
    "a = [random.gauss(100,15) for x in range(40)]"
   ]
  },
  {
   "cell_type": "code",
   "execution_count": 16,
   "id": "8e4a1eca-dbc2-4625-8687-3740553de2ca",
   "metadata": {},
   "outputs": [
    {
     "data": {
      "text/plain": [
       "(-0.3034432819044025, 0.6192239673220372)"
      ]
     },
     "execution_count": 16,
     "metadata": {},
     "output_type": "execute_result"
    }
   ],
   "source": [
    "ztest(a,value = 100,alternative = 'larger')"
   ]
  },
  {
   "cell_type": "code",
   "execution_count": 17,
   "id": "d7e1516a-6955-4f56-ac4a-f5a802281c45",
   "metadata": {},
   "outputs": [],
   "source": [
    "a = [random.gauss(80,15) for x in range(40)]"
   ]
  },
  {
   "cell_type": "code",
   "execution_count": 18,
   "id": "17cf42e4-dec2-4f0f-a90d-b3d5d49c73f8",
   "metadata": {},
   "outputs": [
    {
     "data": {
      "text/plain": [
       "(-8.827369053119002, 5.358336411467834e-19)"
      ]
     },
     "execution_count": 18,
     "metadata": {},
     "output_type": "execute_result"
    }
   ],
   "source": [
    "ztest(a,value=100,alternative = 'smaller')"
   ]
  },
  {
   "cell_type": "code",
   "execution_count": 19,
   "id": "7d277dd3-1ee3-41c1-839e-e9188cee461d",
   "metadata": {},
   "outputs": [],
   "source": [
    "a = [random.gauss(100,15) for x in range(40)]\n",
    "b = [random.gauss(120,150) for x in range(40)]"
   ]
  },
  {
   "cell_type": "code",
   "execution_count": 20,
   "id": "a43491e8-2e8f-425a-a883-44d3a9536438",
   "metadata": {},
   "outputs": [
    {
     "data": {
      "text/plain": [
       "(-1.6079772193064408, 0.10784016814344977)"
      ]
     },
     "execution_count": 20,
     "metadata": {},
     "output_type": "execute_result"
    }
   ],
   "source": [
    "ztest(a,b,value = 0)"
   ]
  },
  {
   "cell_type": "code",
   "execution_count": 21,
   "id": "7a91e96a-cecc-4e1f-98e8-ceaa1ad3b559",
   "metadata": {},
   "outputs": [],
   "source": [
    "a = [random.gauss(100,15) for x in range(40)]\n",
    "b = [random.gauss(100,150) for x in range(40)]"
   ]
  },
  {
   "cell_type": "code",
   "execution_count": 22,
   "id": "0f9d7257-da1b-418f-8816-1b8ae4c93562",
   "metadata": {},
   "outputs": [
    {
     "data": {
      "text/plain": [
       "(0.09080217784421295, 0.9276497795329643)"
      ]
     },
     "execution_count": 22,
     "metadata": {},
     "output_type": "execute_result"
    }
   ],
   "source": [
    "ztest(a,b,value = 0)"
   ]
  }
 ],
 "metadata": {
  "kernelspec": {
   "display_name": "Python 3 (ipykernel)",
   "language": "python",
   "name": "python3"
  },
  "language_info": {
   "codemirror_mode": {
    "name": "ipython",
    "version": 3
   },
   "file_extension": ".py",
   "mimetype": "text/x-python",
   "name": "python",
   "nbconvert_exporter": "python",
   "pygments_lexer": "ipython3",
   "version": "3.12.4"
  }
 },
 "nbformat": 4,
 "nbformat_minor": 5
}
