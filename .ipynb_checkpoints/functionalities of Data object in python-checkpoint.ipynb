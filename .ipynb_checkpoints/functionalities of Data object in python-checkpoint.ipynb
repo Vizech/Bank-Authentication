{
 "cells": [
  {
   "cell_type": "markdown",
   "id": "4b271ce6-8c5d-49a5-aca3-b6f922b078cc",
   "metadata": {},
   "source": [
    "# Groupby()"
   ]
  },
  {
   "cell_type": "code",
   "execution_count": 3,
   "id": "bc22ee67-7ca7-450c-9107-4ce7a014ff04",
   "metadata": {},
   "outputs": [
    {
     "name": "stdout",
     "output_type": "stream",
     "text": [
      "{('Australia', 1): [3, 6, 7, 8, 10], ('India', 2): [2, 9], ('Pakistan', 6): [4], ('Sri Lanka', 4): [5], ('West Indies', 7): [0, 1]}\n"
     ]
    }
   ],
   "source": [
    "import pandas as pd\n",
    "\n",
    "world_cup = {\n",
    "    'Team': ['West Indies', 'West Indies', 'India', 'Australia', 'Pakistan', 'Sri Lanka', \n",
    "             'Australia', 'Australia', 'Australia', 'India', 'Australia'],\n",
    "    'Rank': [7, 7, 2, 1, 6, 4, 1, 1, 1, 2, 1],\n",
    "    'Year': [1975, 1979, 1983, 1987, 1992, 1996, 1999, 2003, 2007, 2011, 2015]\n",
    "}\n",
    "\n",
    "df = pd.DataFrame(world_cup)\n",
    "\n",
    "# Display the groups formed by 'Team' and 'Rank'\n",
    "print(df.groupby(['Team', 'Rank']).groups)\n"
   ]
  },
  {
   "cell_type": "markdown",
   "id": "c3e4847e-d2b8-412d-99c2-75746d11ad71",
   "metadata": {},
   "source": [
    "# Concatenation"
   ]
  },
  {
   "cell_type": "code",
   "execution_count": 5,
   "id": "b59905fa-62bd-4c5a-882e-464f37b37d46",
   "metadata": {},
   "outputs": [
    {
     "name": "stdout",
     "output_type": "stream",
     "text": [
      "          Team  World_Champions_Year  Points          Team  ICC_rank  Points\n",
      "0        India                  2011     874  South Africa       1.0   895.0\n",
      "1    Australia                  2015     787   New Zealand       5.0   764.0\n",
      "2  West Indies                  1979     753      Zimbabwe       9.0   656.0\n",
      "3     Pakistan                  1992     673           NaN       NaN     NaN\n",
      "4    Sri Lanka                  1996     855           NaN       NaN     NaN\n"
     ]
    }
   ],
   "source": [
    "import pandas as pd\n",
    "\n",
    "# Define data for World Champions\n",
    "world_Champions = {\n",
    "    'Team': ['India', 'Australia', 'West Indies', 'Pakistan', 'Sri Lanka'],\n",
    "    'World_Champions_Year': [2011, 2015, 1979, 1992, 1996],\n",
    "    'Points': [874, 787, 753, 673, 855]\n",
    "}\n",
    "\n",
    "# Define data for Chokers\n",
    "chokers = {\n",
    "    'Team': ['South Africa', 'New Zealand', 'Zimbabwe'],\n",
    "    'ICC_rank': [1, 5, 9],\n",
    "    'Points': [895, 764, 656]\n",
    "}\n",
    "\n",
    "# Create DataFrames\n",
    "df1 = pd.DataFrame(world_Champions)\n",
    "df2 = pd.DataFrame(chokers)\n",
    "\n",
    "# Concatenate the two DataFrames along columns\n",
    "result = pd.concat([df1, df2], axis=1)\n",
    "\n",
    "# Print the concatenated DataFrame\n",
    "print(result)\n"
   ]
  },
  {
   "cell_type": "markdown",
   "id": "97278da5-b186-442f-9468-6bb295c31079",
   "metadata": {},
   "source": [
    "# Merging"
   ]
  },
  {
   "cell_type": "code",
   "execution_count": 11,
   "id": "8c8f024a-96c7-410d-9e45-eb883f4e30bf",
   "metadata": {},
   "outputs": [
    {
     "name": "stdout",
     "output_type": "stream",
     "text": [
      "          Team  ICC_rank  World_Champions_Year  Points  world_cup_played  \\\n",
      "0        India         2                  2011     874                11   \n",
      "1    Australia         3                  2015     787                10   \n",
      "2  West Indies         7                  1979     753                11   \n",
      "3     pakistan         8                  1992     673                 9   \n",
      "4    Sri Lanka         4                  1996     855                 8   \n",
      "\n",
      "   ODIs_played  \n",
      "0          733  \n",
      "1          988  \n",
      "2          712  \n",
      "3          679  \n",
      "4          662  \n"
     ]
    }
   ],
   "source": [
    "import pandas as pd\n",
    "\n",
    "# Define data for World Champions\n",
    "Champions_stats = {\n",
    "    'Team': ['India', 'Australia', 'West Indies', 'pakistan', 'Sri Lanka'],\n",
    "    'ICC_rank': [2, 3, 7, 8, 4],\n",
    "    'World_Champions_Year': [2011, 2015, 1979, 1992, 1996],\n",
    "    'Points': [874, 787, 753, 673, 855]\n",
    "}\n",
    "\n",
    "# Define data for match stats\n",
    "match_stats = {\n",
    "    'Team': ['India', 'Australia', 'West Indies', 'pakistan', 'Sri Lanka'],\n",
    "    'world_cup_played': [11, 10, 11, 9, 8],\n",
    "    'ODIs_played': [733, 988, 712, 679, 662]\n",
    "}\n",
    "\n",
    "# Create DataFrames\n",
    "df1 = pd.DataFrame(Champions_stats)\n",
    "df2 = pd.DataFrame(match_stats)\n",
    "\n",
    "# Merge the two DataFrames on the 'Team' column\n",
    "result = pd.merge(df1, df2, on='Team')\n",
    "\n",
    "# Print the merged DataFrame\n",
    "print(result)\n",
    "\n"
   ]
  },
  {
   "cell_type": "code",
   "execution_count": null,
   "id": "eb70f229-bd0f-43f5-ac78-745b520e1bd8",
   "metadata": {},
   "outputs": [],
   "source": []
  }
 ],
 "metadata": {
  "kernelspec": {
   "display_name": "Python 3 (ipykernel)",
   "language": "python",
   "name": "python3"
  },
  "language_info": {
   "codemirror_mode": {
    "name": "ipython",
    "version": 3
   },
   "file_extension": ".py",
   "mimetype": "text/x-python",
   "name": "python",
   "nbconvert_exporter": "python",
   "pygments_lexer": "ipython3",
   "version": "3.12.4"
  }
 },
 "nbformat": 4,
 "nbformat_minor": 5
}
