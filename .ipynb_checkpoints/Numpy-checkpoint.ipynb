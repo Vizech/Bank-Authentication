{
 "cells": [
  {
   "cell_type": "code",
   "execution_count": 1,
   "id": "21b5ed89-6e54-49e5-a097-5cae0a0f876c",
   "metadata": {},
   "outputs": [],
   "source": [
    "import numpy as np"
   ]
  },
  {
   "cell_type": "code",
   "execution_count": 2,
   "id": "615579b3-ee96-4101-8821-26795edb353a",
   "metadata": {},
   "outputs": [
    {
     "data": {
      "text/plain": [
       "array(24)"
      ]
     },
     "execution_count": 2,
     "metadata": {},
     "output_type": "execute_result"
    }
   ],
   "source": [
    "np.array(24)"
   ]
  },
  {
   "cell_type": "code",
   "execution_count": 3,
   "id": "064175e3-4839-4c2d-933b-11825ad736b1",
   "metadata": {},
   "outputs": [
    {
     "data": {
      "text/plain": [
       "array([1, 2, 3, 4])"
      ]
     },
     "execution_count": 3,
     "metadata": {},
     "output_type": "execute_result"
    }
   ],
   "source": [
    "np.array([1,2,3,4])"
   ]
  },
  {
   "cell_type": "code",
   "execution_count": 5,
   "id": "b29b6651-3d04-4e9b-9b1b-b3832eb0d845",
   "metadata": {},
   "outputs": [
    {
     "data": {
      "text/plain": [
       "array([[1, 1, 1],\n",
       "       [1, 2, 1]])"
      ]
     },
     "execution_count": 5,
     "metadata": {},
     "output_type": "execute_result"
    }
   ],
   "source": [
    "np.array(((1,1,1),(1,2,1)))"
   ]
  },
  {
   "cell_type": "code",
   "execution_count": 9,
   "id": "df383864-ac70-46b5-bac5-847de1680e4e",
   "metadata": {},
   "outputs": [
    {
     "name": "stdout",
     "output_type": "stream",
     "text": [
      "[[[1 1 1]\n",
      "  [2 2 2]]\n",
      "\n",
      " [[3 3 3]\n",
      "  [4 4 4]]]\n"
     ]
    }
   ],
   "source": [
    "import numpy as np\n",
    "\n",
    "array = np.array((([1,1,1],[2,2,2]),[[3,3,3],(4,4,4)]))\n",
    "print(array)\n"
   ]
  },
  {
   "cell_type": "code",
   "execution_count": 10,
   "id": "ea6c8577-c531-4e8f-989b-a2e3d7b085bc",
   "metadata": {},
   "outputs": [],
   "source": [
    "numpy_arr = np.array((([1,1,1],[2,2,2]),[[3,3,3],(4,4,4)]))"
   ]
  },
  {
   "cell_type": "code",
   "execution_count": 11,
   "id": "c6afb9e5-1484-4889-b0d1-e8f6cb402d55",
   "metadata": {},
   "outputs": [
    {
     "data": {
      "text/plain": [
       "(2, 2, 3)"
      ]
     },
     "execution_count": 11,
     "metadata": {},
     "output_type": "execute_result"
    }
   ],
   "source": [
    "numpy_arr.shape"
   ]
  },
  {
   "cell_type": "code",
   "execution_count": 12,
   "id": "1b8af1ff-85cf-4cc9-8e54-a0fd6e07fa00",
   "metadata": {},
   "outputs": [
    {
     "data": {
      "text/plain": [
       "3"
      ]
     },
     "execution_count": 12,
     "metadata": {},
     "output_type": "execute_result"
    }
   ],
   "source": [
    "numpy_arr.ndim"
   ]
  }
 ],
 "metadata": {
  "kernelspec": {
   "display_name": "Python 3 (ipykernel)",
   "language": "python",
   "name": "python3"
  },
  "language_info": {
   "codemirror_mode": {
    "name": "ipython",
    "version": 3
   },
   "file_extension": ".py",
   "mimetype": "text/x-python",
   "name": "python",
   "nbconvert_exporter": "python",
   "pygments_lexer": "ipython3",
   "version": "3.12.4"
  }
 },
 "nbformat": 4,
 "nbformat_minor": 5
}
