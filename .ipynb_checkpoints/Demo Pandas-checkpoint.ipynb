{
 "cells": [
  {
   "cell_type": "code",
   "execution_count": 3,
   "id": "c463baab-a436-4295-bbc7-934655a24e0c",
   "metadata": {},
   "outputs": [],
   "source": [
    "import pandas as pd\n",
    "text = pd.Series(['Lorem', 'ipaum', 'dolor', 'ait', 'consectetur', 'adipiacing', 'elit'])\n"
   ]
  },
  {
   "cell_type": "code",
   "execution_count": 4,
   "id": "3fa6498f-2ac0-4241-bc12-99cc707c0b5d",
   "metadata": {},
   "outputs": [
    {
     "data": {
      "text/plain": [
       "0          LOREM\n",
       "1          IPAUM\n",
       "2          DOLOR\n",
       "3            AIT\n",
       "4    CONSECTETUR\n",
       "5     ADIPIACING\n",
       "6           ELIT\n",
       "dtype: object"
      ]
     },
     "execution_count": 4,
     "metadata": {},
     "output_type": "execute_result"
    }
   ],
   "source": [
    "text.str.upper()"
   ]
  },
  {
   "cell_type": "code",
   "execution_count": 5,
   "id": "abb941c4-2224-46ba-83db-3468e04a93d0",
   "metadata": {},
   "outputs": [
    {
     "data": {
      "text/plain": [
       "0          lorem\n",
       "1          ipaum\n",
       "2          dolor\n",
       "3            ait\n",
       "4    consectetur\n",
       "5     adipiacing\n",
       "6           elit\n",
       "dtype: object"
      ]
     },
     "execution_count": 5,
     "metadata": {},
     "output_type": "execute_result"
    }
   ],
   "source": [
    "text.str.lower()"
   ]
  },
  {
   "cell_type": "code",
   "execution_count": 6,
   "id": "6c2e7dd9-a6bf-4aab-95dd-d3bcc49c3c88",
   "metadata": {},
   "outputs": [
    {
     "data": {
      "text/plain": [
       "0     5\n",
       "1     5\n",
       "2     5\n",
       "3     3\n",
       "4    11\n",
       "5    10\n",
       "6     4\n",
       "dtype: int64"
      ]
     },
     "execution_count": 6,
     "metadata": {},
     "output_type": "execute_result"
    }
   ],
   "source": [
    "text.str.len()"
   ]
  },
  {
   "cell_type": "code",
   "execution_count": 7,
   "id": "dfbbed90-3817-42f1-acf8-105decc77da2",
   "metadata": {},
   "outputs": [
    {
     "data": {
      "text/plain": [
       "0           [Lor, m]\n",
       "1            [ipaum]\n",
       "2            [dolor]\n",
       "3              [ait]\n",
       "4    [cons, ct, tur]\n",
       "5       [adipiacing]\n",
       "6            [, lit]\n",
       "dtype: object"
      ]
     },
     "execution_count": 7,
     "metadata": {},
     "output_type": "execute_result"
    }
   ],
   "source": [
    "text.str.split('e')"
   ]
  },
  {
   "cell_type": "code",
   "execution_count": 10,
   "id": "ca259697-5486-46e1-aeb6-871197262e64",
   "metadata": {},
   "outputs": [
    {
     "data": {
      "text/plain": [
       "'Lorem  ipaum  dolor  ait  consectetur  adipiacing  elit'"
      ]
     },
     "execution_count": 10,
     "metadata": {},
     "output_type": "execute_result"
    }
   ],
   "source": [
    "text.str.cat(sep='  ')"
   ]
  },
  {
   "cell_type": "code",
   "execution_count": null,
   "id": "daa31cf4-9bb7-45f3-ae6b-21f0ad5ffeac",
   "metadata": {},
   "outputs": [],
   "source": []
  }
 ],
 "metadata": {
  "kernelspec": {
   "display_name": "Python 3 (ipykernel)",
   "language": "python",
   "name": "python3"
  },
  "language_info": {
   "codemirror_mode": {
    "name": "ipython",
    "version": 3
   },
   "file_extension": ".py",
   "mimetype": "text/x-python",
   "name": "python",
   "nbconvert_exporter": "python",
   "pygments_lexer": "ipython3",
   "version": "3.12.4"
  }
 },
 "nbformat": 4,
 "nbformat_minor": 5
}
