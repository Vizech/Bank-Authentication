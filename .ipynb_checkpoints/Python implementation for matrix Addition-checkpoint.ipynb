{
 "cells": [
  {
   "cell_type": "code",
   "execution_count": 1,
   "id": "505cd9c5-618b-4cf8-bd3f-c8af40d93567",
   "metadata": {},
   "outputs": [],
   "source": [
    "def matrix_addition(x, y):\n",
    "    xrows = len(x)\n",
    "    xcols = len(x[0])\n",
    "    yrows = len(y)\n",
    "    ycols = len(y[0])\n",
    "    \n",
    "    # Check if matrices have the same dimensions\n",
    "    if xrows != yrows or xcols != ycols:\n",
    "        print(\"Sum is not defined as the matrices have different orders\")\n",
    "        return None\n",
    "    else:\n",
    "        z = [[x for _ in range(xcols)] for _ in range(xrows)]\n",
    "        for i in range(xrows):\n",
    "            for j in range(xcols):\n",
    "                z[i][j] = x[i][j] + y[i][j]\n",
    "        return z\n"
   ]
  },
  {
   "cell_type": "code",
   "execution_count": 2,
   "id": "0b8d3969-90a2-423e-8fc9-514558ca75a2",
   "metadata": {},
   "outputs": [
    {
     "name": "stdout",
     "output_type": "stream",
     "text": [
      "[[6, 3, 7], [12, 7, 5]]\n"
     ]
    }
   ],
   "source": [
    "result = matrix_addition([[1, 2, 5], [3, 4, 1]], [[5, 1, 2], [9, 3, 4]])\n",
    "print(result)\n"
   ]
  },
  {
   "cell_type": "code",
   "execution_count": 3,
   "id": "9b60e8df-26c7-4bc5-86a7-95eb80286b6b",
   "metadata": {},
   "outputs": [],
   "source": [
    "def scalar_multiplication(c, X):\n",
    "    # Create a copy of X to avoid modifying the original matrix\n",
    "    cX = [[X[i][j] for j in range(len(X[0]))] for i in range(len(X))]\n",
    "    \n",
    "    for i in range(len(X)):\n",
    "        for j in range(len(X[0])):\n",
    "            cX[i][j] = c * cX[i][j]\n",
    "    \n",
    "    return cX\n"
   ]
  },
  {
   "cell_type": "code",
   "execution_count": 4,
   "id": "ae58a1de-0a81-4f7a-b102-100f1f5d2678",
   "metadata": {},
   "outputs": [
    {
     "name": "stdout",
     "output_type": "stream",
     "text": [
      "[[-6, -18, 3], [-6, -24, 0], [-27, -24, -21]]\n"
     ]
    }
   ],
   "source": [
    "result = scalar_multiplication(-3, [[2, 6, -1], [2, 8, 0], [9, 8, 7]])\n",
    "print(result)\n"
   ]
  },
  {
   "cell_type": "code",
   "execution_count": 5,
   "id": "f0a75a3e-e549-4a3c-8907-2feedf62c2b1",
   "metadata": {},
   "outputs": [],
   "source": [
    "def matrix_subtraction(x, y):\n",
    "    xrows = len(x)\n",
    "    xcols = len(x[0])\n",
    "    yrows = len(y)\n",
    "    ycols = len(y[0])\n",
    "    \n",
    "    # Check if matrices have the same dimensions\n",
    "    if xrows != yrows or xcols != ycols:\n",
    "        print(\"Difference is not defined as the matrices have different orders\")\n",
    "        return None\n",
    "    else:\n",
    "        # Create a new matrix z to store the result\n",
    "        z = [[0 for _ in range(xcols)] for _ in range(xrows)]\n",
    "        for i in range(xrows):\n",
    "            for j in range(xcols):\n",
    "                z[i][j] = x[i][j] - y[i][j]\n",
    "        return z\n"
   ]
  },
  {
   "cell_type": "code",
   "execution_count": 6,
   "id": "98ba45b2-db70-4811-ac79-155b7005fe24",
   "metadata": {},
   "outputs": [
    {
     "data": {
      "text/plain": [
       "[[0, -1, 1], [-5, 2, -13]]"
      ]
     },
     "execution_count": 6,
     "metadata": {},
     "output_type": "execute_result"
    }
   ],
   "source": [
    "matrix_subtraction([[5,2,3],[3,4,-9]],[[5,3,2],[8,2,4]])"
   ]
  },
  {
   "cell_type": "code",
   "execution_count": 9,
   "id": "d6faafff-cd0e-4b27-826b-b11008bfead0",
   "metadata": {},
   "outputs": [],
   "source": [
    "def matrix_multiplication(x, y):\n",
    "    xrows = len(x)\n",
    "    xcols = len(x[0])\n",
    "    yrows = len(y)\n",
    "    ycols = len(y[0])\n",
    "    \n",
    "    if xcols != yrows:\n",
    "        print(\"Product is not defined.\")\n",
    "        return None\n",
    "    else:\n",
    "        z = [[0 for i in range(ycols)] for j in range(xrows)]\n",
    "        \n",
    "        for i in range(xrows):\n",
    "            for j in range(ycols):\n",
    "                total = 0\n",
    "                for ii in range(xcols):\n",
    "                    total += x[i][ii] * y[ii][j]\n",
    "                z[i][j] = total\n",
    "                \n",
    "        return z\n"
   ]
  },
  {
   "cell_type": "code",
   "execution_count": 11,
   "id": "861ba91b-4105-4280-8fd3-16e08f5bc734",
   "metadata": {},
   "outputs": [
    {
     "data": {
      "text/plain": [
       "[[28, 32, 25], [52, 20, 25]]"
      ]
     },
     "execution_count": 11,
     "metadata": {},
     "output_type": "execute_result"
    }
   ],
   "source": [
    "matrix_multiplication(([1, 2, 5], [3, 4, 1]), ([5, 1, 2], [9, 3, 4], [1, 5, 3]))\n"
   ]
  },
  {
   "cell_type": "code",
   "execution_count": 14,
   "id": "6138e2bb-6036-4ba9-9f88-eb019f20d283",
   "metadata": {},
   "outputs": [],
   "source": [
    "def matrix_transpose(x):\n",
    "    xrows = len(x)\n",
    "    xcols = len(x[0])\n",
    "    \n",
    "    # Initialize the transposed matrix\n",
    "    z = [[0 for i in range(xrows)] for j in range(xcols)]\n",
    "    \n",
    "    # Perform the transposition\n",
    "    for i in range(xcols):\n",
    "        for j in range(xrows):\n",
    "            z[i][j] = x[j][i]\n",
    "    \n",
    "    return z\n"
   ]
  },
  {
   "cell_type": "code",
   "execution_count": 15,
   "id": "4a049412-5f13-48e7-a33e-6f77394b5122",
   "metadata": {},
   "outputs": [
    {
     "data": {
      "text/plain": [
       "[[1, 3], [2, 5], [5, 4]]"
      ]
     },
     "execution_count": 15,
     "metadata": {},
     "output_type": "execute_result"
    }
   ],
   "source": [
    "matrix_transpose([[1,2,5],[3,5,4]])"
   ]
  },
  {
   "cell_type": "code",
   "execution_count": 16,
   "id": "57daa9c9-f803-4f59-abb8-f989540ab490",
   "metadata": {},
   "outputs": [],
   "source": [
    "import numpy as np\n",
    "from sympy import Matrix"
   ]
  },
  {
   "cell_type": "code",
   "execution_count": 17,
   "id": "8642fbf3-aae3-4acb-a5fd-19bcf70ccd22",
   "metadata": {},
   "outputs": [],
   "source": [
    "matrix = Matrix([[3, 0, 5, -3, 2],\n",
    "                 [0, 2, 1, 9, 0],\n",
    "                 [0, 0, 0, 7, 5],\n",
    "                 [0, 0, 0, 0, 0],\n",
    "                 [5, 2, 6, 1, 10]])"
   ]
  },
  {
   "cell_type": "code",
   "execution_count": 18,
   "id": "e1c71743-6542-41da-83ab-a32ff800957a",
   "metadata": {},
   "outputs": [],
   "source": [
    "echelon_form = matrix.echelon_form()"
   ]
  },
  {
   "cell_type": "code",
   "execution_count": 19,
   "id": "cb679513-8018-46a9-b685-1584c4bd03e8",
   "metadata": {},
   "outputs": [
    {
     "data": {
      "text/latex": [
       "$\\displaystyle \\left[\\begin{matrix}3 & 0 & 5 & -3 & 2\\\\0 & 2 & 1 & 9 & 0\\\\0 & 0 & -20 & -18 & 40\\\\0 & 0 & 0 & 7 & 5\\\\0 & 0 & 0 & 0 & 0\\end{matrix}\\right]$"
      ],
      "text/plain": [
       "Matrix([\n",
       "[3, 0,   5,  -3,  2],\n",
       "[0, 2,   1,   9,  0],\n",
       "[0, 0, -20, -18, 40],\n",
       "[0, 0,   0,   7,  5],\n",
       "[0, 0,   0,   0,  0]])"
      ]
     },
     "execution_count": 19,
     "metadata": {},
     "output_type": "execute_result"
    }
   ],
   "source": [
    "echelon_form"
   ]
  },
  {
   "cell_type": "code",
   "execution_count": null,
   "id": "85f59bcf-ae9e-4682-b5a5-2d47a0f769c4",
   "metadata": {},
   "outputs": [],
   "source": []
  }
 ],
 "metadata": {
  "kernelspec": {
   "display_name": "Python 3 (ipykernel)",
   "language": "python",
   "name": "python3"
  },
  "language_info": {
   "codemirror_mode": {
    "name": "ipython",
    "version": 3
   },
   "file_extension": ".py",
   "mimetype": "text/x-python",
   "name": "python",
   "nbconvert_exporter": "python",
   "pygments_lexer": "ipython3",
   "version": "3.12.4"
  }
 },
 "nbformat": 4,
 "nbformat_minor": 5
}
