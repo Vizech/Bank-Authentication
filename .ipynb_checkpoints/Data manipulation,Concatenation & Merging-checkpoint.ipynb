{
 "cells": [
  {
   "cell_type": "code",
   "execution_count": 2,
   "id": "89937fcf-f4f8-46e8-a1e1-3a665729fb89",
   "metadata": {},
   "outputs": [
    {
     "name": "stdout",
     "output_type": "stream",
     "text": [
      "           Team  ICC_rank  World_Champions_year  Points\n",
      "0         India         2                2011.0     874\n",
      "1     Australia         3                2015.0     787\n",
      "2   West Indies         7                1979.0     753\n",
      "3      Pakistan         8                1992.0     673\n",
      "4     Sri Lanka         4                1996.0     855\n",
      "5  South Africa         1                   NaN     895\n",
      "6   New Zealand         5                   NaN     764\n",
      "7      Zimbabwe         9                   NaN     656\n"
     ]
    }
   ],
   "source": [
    "import pandas as pd\n",
    "\n",
    "# Correcting the data definitions\n",
    "world_champions = {\n",
    "    'Team': ['India', 'Australia', 'West Indies', 'Pakistan', 'Sri Lanka'],\n",
    "    'ICC_rank': [2, 3, 7, 8, 4],\n",
    "    'World_Champions_year': [2011, 2015, 1979, 1992, 1996],\n",
    "    'Points': [874, 787, 753, 673, 855]\n",
    "}\n",
    "\n",
    "chokers = {\n",
    "    'Team': ['South Africa', 'New Zealand', 'Zimbabwe'],\n",
    "    'ICC_rank': [1, 5, 9],\n",
    "    'Points': [895, 764, 656]\n",
    "}\n",
    "\n",
    "# Creating DataFrames\n",
    "df1 = pd.DataFrame(world_champions)\n",
    "df2 = pd.DataFrame(chokers)\n",
    "\n",
    "# Concatenating DataFrames\n",
    "result = pd.concat([df1, df2], axis=0, ignore_index=True)\n",
    "\n",
    "print(result)\n"
   ]
  },
  {
   "cell_type": "code",
   "execution_count": null,
   "id": "475831de-6c89-4185-9984-4331eb01bf80",
   "metadata": {},
   "outputs": [],
   "source": []
  }
 ],
 "metadata": {
  "kernelspec": {
   "display_name": "Python 3 (ipykernel)",
   "language": "python",
   "name": "python3"
  },
  "language_info": {
   "codemirror_mode": {
    "name": "ipython",
    "version": 3
   },
   "file_extension": ".py",
   "mimetype": "text/x-python",
   "name": "python",
   "nbconvert_exporter": "python",
   "pygments_lexer": "ipython3",
   "version": "3.12.4"
  }
 },
 "nbformat": 4,
 "nbformat_minor": 5
}
