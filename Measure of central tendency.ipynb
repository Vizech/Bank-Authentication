{
 "cells": [
  {
   "cell_type": "code",
   "execution_count": 1,
   "id": "01e80d6a-3484-49a1-8432-797d68fa3ebb",
   "metadata": {},
   "outputs": [
    {
     "data": {
      "text/plain": [
       "23.285714285714285"
      ]
     },
     "execution_count": 1,
     "metadata": {},
     "output_type": "execute_result"
    }
   ],
   "source": [
    "import statistics\n",
    "statistics.mean((4,89,54,-7,-9,27,5))"
   ]
  },
  {
   "cell_type": "code",
   "execution_count": 2,
   "id": "c0b92c5c-b746-4c61-8857-ef8ff00de2ae",
   "metadata": {},
   "outputs": [
    {
     "data": {
      "text/plain": [
       "5.5"
      ]
     },
     "execution_count": 2,
     "metadata": {},
     "output_type": "execute_result"
    }
   ],
   "source": [
    "import statistics\n",
    "x = (1, 2, 3, 4, 5, 6, 7, 8, 9, 10)\n",
    "statistics.median(x)"
   ]
  },
  {
   "cell_type": "code",
   "execution_count": 3,
   "id": "171c6483-d1d8-4b0f-874f-f8cb53318f6c",
   "metadata": {},
   "outputs": [
    {
     "data": {
      "text/plain": [
       "'Nokia'"
      ]
     },
     "execution_count": 3,
     "metadata": {},
     "output_type": "execute_result"
    }
   ],
   "source": [
    "import statistics\n",
    "x = ['Nokia','RealMe','samsung','Apple','Oppo','Vivo']\n",
    "statistics.mode(x)"
   ]
  },
  {
   "cell_type": "code",
   "execution_count": 4,
   "id": "e141c4ff-4f01-410a-99cb-264796c4d82e",
   "metadata": {},
   "outputs": [
    {
     "name": "stdout",
     "output_type": "stream",
     "text": [
      "The mode is: 12\n"
     ]
    }
   ],
   "source": [
    "import statistics\n",
    "\n",
    "Phone_data = {\n",
    "    \"Nokia\": 12,\n",
    "    \"Realme\": 32,\n",
    "    \"Apple\": 10,\n",
    "    \"Samsung\": 36,\n",
    "    \"Oppo\": 4,\n",
    "    \"Vivo\": 6\n",
    "}\n",
    "\n",
    "values = list(Phone_data.values())\n",
    "\n",
    "try:\n",
    "    mode_value = statistics.mode(values)\n",
    "    print(\"The mode is:\", mode_value)\n",
    "except statistics.StatisticsError as e:\n",
    "    print(\"No unique mode found:\", e)\n"
   ]
  },
  {
   "cell_type": "code",
   "execution_count": 5,
   "id": "9b7f08e4-5306-479e-89dc-87847ae607eb",
   "metadata": {},
   "outputs": [
    {
     "name": "stdout",
     "output_type": "stream",
     "text": [
      "The maximum value is: 36\n"
     ]
    }
   ],
   "source": [
    "max_value = max(values)\n",
    "print(\"The maximum value is:\", max_value)\n"
   ]
  },
  {
   "cell_type": "code",
   "execution_count": 6,
   "id": "3976778b-fcf8-424b-8d1b-ef083a2e5a22",
   "metadata": {},
   "outputs": [
    {
     "name": "stdout",
     "output_type": "stream",
     "text": [
      "1.5811388300841898\n"
     ]
    }
   ],
   "source": [
    "import statistics\n",
    "x = [1, 2, 3, 4, 5]\n",
    "print(statistics.stdev(x))"
   ]
  }
 ],
 "metadata": {
  "kernelspec": {
   "display_name": "Python 3 (ipykernel)",
   "language": "python",
   "name": "python3"
  },
  "language_info": {
   "codemirror_mode": {
    "name": "ipython",
    "version": 3
   },
   "file_extension": ".py",
   "mimetype": "text/x-python",
   "name": "python",
   "nbconvert_exporter": "python",
   "pygments_lexer": "ipython3",
   "version": "3.12.4"
  }
 },
 "nbformat": 4,
 "nbformat_minor": 5
}
