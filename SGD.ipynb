{
 "cells": [
  {
   "cell_type": "code",
   "execution_count": 8,
   "id": "93cb1ba8-e91f-4825-a27c-e6df7f301386",
   "metadata": {},
   "outputs": [],
   "source": [
    "import numpy as np\n",
    "import pandas as pd\n",
    "import matplotlib.pyplot as plt\n",
    "import seaborn as sns\n",
    "from sklearn import datasets\n",
    "from sklearn.model_selection import train_test_split"
   ]
  },
  {
   "cell_type": "code",
   "execution_count": 9,
   "id": "bd5a6f51-df00-4edb-9c20-91a8e14ea159",
   "metadata": {},
   "outputs": [],
   "source": [
    "bc = datasets.load_breast_cancer()\n",
    "X = bc.data\n",
    "y = bc.target"
   ]
  },
  {
   "cell_type": "code",
   "execution_count": 10,
   "id": "5bf2b6b4-fc66-4840-a490-368c0c5f8d5c",
   "metadata": {},
   "outputs": [],
   "source": [
    "X_train, X_test, y_train, y_test = train_test_split(X, y, test_size=0.3, random_state=42, stratify=y)"
   ]
  },
  {
   "cell_type": "code",
   "execution_count": 11,
   "id": "9e6ca8b1-614a-4f4c-ae38-71084b6db817",
   "metadata": {},
   "outputs": [],
   "source": [
    "\n",
    "class CustomPerceptron(object):\n",
    "    def __init__(self, n_iterations=100, random_state=1, learning_rate=0.01):\n",
    "        self.n_iterations = n_iterations\n",
    "        self.random_state = random_state\n",
    "        self.learning_rate = learning_rate\n",
    "\n",
    "    def fit(self, X, y):\n",
    "        rgen = np.random.RandomState(self.random_state)\n",
    "        self.coef_ = rgen.normal(loc=0.0, scale=0.01, size=1 + X.shape[1])\n",
    "        for _ in range(self.n_iterations):\n",
    "            for xi, expected_value in zip(X, y):\n",
    "                predicted_value = self.predict(xi)\n",
    "                self.coef_[1:] += self.learning_rate * (expected_value - predicted_value) * xi\n",
    "                self.coef_[0] += self.learning_rate * (expected_value - predicted_value) * 1\n",
    "\n",
    "    def activation(self, X):\n",
    "        return np.dot(X, self.coef_[1:]) + self.coef_[0]\n",
    "\n",
    "    def predict(self, X):\n",
    "        output = self.activation(X)\n",
    "        return np.where(output >= 0.0, 1, 0)\n",
    "\n",
    "    def score(self, X, y):\n",
    "        misclassified_data_count = 0\n",
    "        for xi, target in zip(X, y):\n",
    "            output = self.predict(xi)\n",
    "            if target != output:\n",
    "                misclassified_data_count += 1\n",
    "        total_data_count = len(X)\n",
    "        self.score_ = (total_data_count - misclassified_data_count) / total_data_count\n",
    "        return self.score_"
   ]
  },
  {
   "cell_type": "code",
   "execution_count": 12,
   "id": "602b4f0f-a207-47bd-b878-a1764714d4b0",
   "metadata": {},
   "outputs": [],
   "source": [
    "n_iterations=100\n",
    "learning_rate =0.01"
   ]
  },
  {
   "cell_type": "code",
   "execution_count": 16,
   "id": "8be17fbb-2a91-4665-ae8e-cd424d31e083",
   "metadata": {},
   "outputs": [
    {
     "name": "stdout",
     "output_type": "stream",
     "text": [
      "Test Accuracy: 0.5\n",
      "Training Accuracy: 1.0\n"
     ]
    }
   ],
   "source": [
    "# Initialize the custom Perceptron\n",
    "prcptrn = customPerceptron(learning_rate=0.01, n_iterations=1000)\n",
    "\n",
    "# Fit the model\n",
    "prcptrn.fit(X_train, y_train)\n",
    "\n",
    "# Print accuracy on test data\n",
    "print(\"Test Accuracy:\", prcptrn.score(X_test, y_test))\n",
    "\n",
    "# Print accuracy on training data\n",
    "print(\"Training Accuracy:\", prcptrn.score(X_train, y_train))"
   ]
  },
  {
   "cell_type": "code",
   "execution_count": 17,
   "id": "19d05b69-3a0a-44b3-b059-d3794e176231",
   "metadata": {},
   "outputs": [
    {
     "name": "stdout",
     "output_type": "stream",
     "text": [
      "0.5\n"
     ]
    },
    {
     "data": {
      "text/plain": [
       "1.0"
      ]
     },
     "execution_count": 17,
     "metadata": {},
     "output_type": "execute_result"
    }
   ],
   "source": [
    "print(prcptrn.score(X_test, y_test))\n",
    "prcptrn.score(X_train, y_train)"
   ]
  }
 ],
 "metadata": {
  "kernelspec": {
   "display_name": "Python 3 (ipykernel)",
   "language": "python",
   "name": "python3"
  },
  "language_info": {
   "codemirror_mode": {
    "name": "ipython",
    "version": 3
   },
   "file_extension": ".py",
   "mimetype": "text/x-python",
   "name": "python",
   "nbconvert_exporter": "python",
   "pygments_lexer": "ipython3",
   "version": "3.12.4"
  }
 },
 "nbformat": 4,
 "nbformat_minor": 5
}
