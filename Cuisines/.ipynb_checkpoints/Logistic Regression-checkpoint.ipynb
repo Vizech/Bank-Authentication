{
 "cells": [
  {
   "cell_type": "code",
   "execution_count": 2,
   "id": "4ee47709-effd-46ee-928e-bce634aaae22",
   "metadata": {},
   "outputs": [],
   "source": [
    "import pandas as pd\n",
    "import numpy as np\n",
    "import matplotlib.pyplot as plt"
   ]
  },
  {
   "cell_type": "code",
   "execution_count": 3,
   "id": "acd9e928-4bb3-4e68-b4da-5455ef32c82b",
   "metadata": {},
   "outputs": [],
   "source": [
    "df = pd.read_csv('Cuisines.csv')"
   ]
  },
  {
   "cell_type": "code",
   "execution_count": 4,
   "id": "93ceb3e8-f89a-4e0c-9cab-558c52a201ec",
   "metadata": {},
   "outputs": [
    {
     "data": {
      "text/html": [
       "<div>\n",
       "<style scoped>\n",
       "    .dataframe tbody tr th:only-of-type {\n",
       "        vertical-align: middle;\n",
       "    }\n",
       "\n",
       "    .dataframe tbody tr th {\n",
       "        vertical-align: top;\n",
       "    }\n",
       "\n",
       "    .dataframe thead th {\n",
       "        text-align: right;\n",
       "    }\n",
       "</style>\n",
       "<table border=\"1\" class=\"dataframe\">\n",
       "  <thead>\n",
       "    <tr style=\"text-align: right;\">\n",
       "      <th></th>\n",
       "      <th>Unnamed: 0</th>\n",
       "      <th>cuisine</th>\n",
       "      <th>almond</th>\n",
       "      <th>angelica</th>\n",
       "      <th>anise</th>\n",
       "      <th>anise_seed</th>\n",
       "      <th>apple</th>\n",
       "      <th>apple_brandy</th>\n",
       "      <th>apricot</th>\n",
       "      <th>armagnac</th>\n",
       "      <th>...</th>\n",
       "      <th>whiskey</th>\n",
       "      <th>white_bread</th>\n",
       "      <th>white_wine</th>\n",
       "      <th>whole_grain_wheat_flour</th>\n",
       "      <th>wine</th>\n",
       "      <th>wood</th>\n",
       "      <th>yam</th>\n",
       "      <th>yeast</th>\n",
       "      <th>yogurt</th>\n",
       "      <th>zucchini</th>\n",
       "    </tr>\n",
       "  </thead>\n",
       "  <tbody>\n",
       "    <tr>\n",
       "      <th>0</th>\n",
       "      <td>65</td>\n",
       "      <td>indian</td>\n",
       "      <td>0</td>\n",
       "      <td>0</td>\n",
       "      <td>0</td>\n",
       "      <td>0</td>\n",
       "      <td>0</td>\n",
       "      <td>0</td>\n",
       "      <td>0</td>\n",
       "      <td>0</td>\n",
       "      <td>...</td>\n",
       "      <td>0</td>\n",
       "      <td>0</td>\n",
       "      <td>0</td>\n",
       "      <td>0</td>\n",
       "      <td>0</td>\n",
       "      <td>0</td>\n",
       "      <td>0</td>\n",
       "      <td>0</td>\n",
       "      <td>0</td>\n",
       "      <td>0</td>\n",
       "    </tr>\n",
       "    <tr>\n",
       "      <th>1</th>\n",
       "      <td>66</td>\n",
       "      <td>indian</td>\n",
       "      <td>1</td>\n",
       "      <td>0</td>\n",
       "      <td>0</td>\n",
       "      <td>0</td>\n",
       "      <td>0</td>\n",
       "      <td>0</td>\n",
       "      <td>0</td>\n",
       "      <td>0</td>\n",
       "      <td>...</td>\n",
       "      <td>0</td>\n",
       "      <td>0</td>\n",
       "      <td>0</td>\n",
       "      <td>0</td>\n",
       "      <td>0</td>\n",
       "      <td>0</td>\n",
       "      <td>0</td>\n",
       "      <td>0</td>\n",
       "      <td>0</td>\n",
       "      <td>0</td>\n",
       "    </tr>\n",
       "    <tr>\n",
       "      <th>2</th>\n",
       "      <td>67</td>\n",
       "      <td>indian</td>\n",
       "      <td>0</td>\n",
       "      <td>0</td>\n",
       "      <td>0</td>\n",
       "      <td>0</td>\n",
       "      <td>0</td>\n",
       "      <td>0</td>\n",
       "      <td>0</td>\n",
       "      <td>0</td>\n",
       "      <td>...</td>\n",
       "      <td>0</td>\n",
       "      <td>0</td>\n",
       "      <td>0</td>\n",
       "      <td>0</td>\n",
       "      <td>0</td>\n",
       "      <td>0</td>\n",
       "      <td>0</td>\n",
       "      <td>0</td>\n",
       "      <td>0</td>\n",
       "      <td>0</td>\n",
       "    </tr>\n",
       "    <tr>\n",
       "      <th>3</th>\n",
       "      <td>68</td>\n",
       "      <td>indian</td>\n",
       "      <td>0</td>\n",
       "      <td>0</td>\n",
       "      <td>0</td>\n",
       "      <td>0</td>\n",
       "      <td>0</td>\n",
       "      <td>0</td>\n",
       "      <td>0</td>\n",
       "      <td>0</td>\n",
       "      <td>...</td>\n",
       "      <td>0</td>\n",
       "      <td>0</td>\n",
       "      <td>0</td>\n",
       "      <td>0</td>\n",
       "      <td>0</td>\n",
       "      <td>0</td>\n",
       "      <td>0</td>\n",
       "      <td>0</td>\n",
       "      <td>0</td>\n",
       "      <td>0</td>\n",
       "    </tr>\n",
       "    <tr>\n",
       "      <th>4</th>\n",
       "      <td>69</td>\n",
       "      <td>indian</td>\n",
       "      <td>0</td>\n",
       "      <td>0</td>\n",
       "      <td>0</td>\n",
       "      <td>0</td>\n",
       "      <td>0</td>\n",
       "      <td>0</td>\n",
       "      <td>0</td>\n",
       "      <td>0</td>\n",
       "      <td>...</td>\n",
       "      <td>0</td>\n",
       "      <td>0</td>\n",
       "      <td>0</td>\n",
       "      <td>0</td>\n",
       "      <td>0</td>\n",
       "      <td>0</td>\n",
       "      <td>0</td>\n",
       "      <td>0</td>\n",
       "      <td>1</td>\n",
       "      <td>0</td>\n",
       "    </tr>\n",
       "  </tbody>\n",
       "</table>\n",
       "<p>5 rows × 385 columns</p>\n",
       "</div>"
      ],
      "text/plain": [
       "   Unnamed: 0 cuisine  almond  angelica  anise  anise_seed  apple  \\\n",
       "0          65  indian       0         0      0           0      0   \n",
       "1          66  indian       1         0      0           0      0   \n",
       "2          67  indian       0         0      0           0      0   \n",
       "3          68  indian       0         0      0           0      0   \n",
       "4          69  indian       0         0      0           0      0   \n",
       "\n",
       "   apple_brandy  apricot  armagnac  ...  whiskey  white_bread  white_wine  \\\n",
       "0             0        0         0  ...        0            0           0   \n",
       "1             0        0         0  ...        0            0           0   \n",
       "2             0        0         0  ...        0            0           0   \n",
       "3             0        0         0  ...        0            0           0   \n",
       "4             0        0         0  ...        0            0           0   \n",
       "\n",
       "   whole_grain_wheat_flour  wine  wood  yam  yeast  yogurt  zucchini  \n",
       "0                        0     0     0    0      0       0         0  \n",
       "1                        0     0     0    0      0       0         0  \n",
       "2                        0     0     0    0      0       0         0  \n",
       "3                        0     0     0    0      0       0         0  \n",
       "4                        0     0     0    0      0       1         0  \n",
       "\n",
       "[5 rows x 385 columns]"
      ]
     },
     "execution_count": 4,
     "metadata": {},
     "output_type": "execute_result"
    }
   ],
   "source": [
    "df.head()"
   ]
  },
  {
   "cell_type": "code",
   "execution_count": 5,
   "id": "25af0d95-4380-414a-b792-213e99dfd35e",
   "metadata": {},
   "outputs": [
    {
     "name": "stdout",
     "output_type": "stream",
     "text": [
      "<class 'pandas.core.frame.DataFrame'>\n",
      "RangeIndex: 2448 entries, 0 to 2447\n",
      "Columns: 385 entries, Unnamed: 0 to zucchini\n",
      "dtypes: int64(384), object(1)\n",
      "memory usage: 7.2+ MB\n"
     ]
    }
   ],
   "source": [
    "df.info()"
   ]
  },
  {
   "cell_type": "code",
   "execution_count": 6,
   "id": "612331a1-0e2e-4682-9de8-1cbee33ce385",
   "metadata": {},
   "outputs": [
    {
     "data": {
      "text/plain": [
       "<Axes: ylabel='cuisine'>"
      ]
     },
     "execution_count": 6,
     "metadata": {},
     "output_type": "execute_result"
    },
    {
     "data": {
      "image/png": "[encoded data removed]",
      "text/plain": [
       "<Figure size 640x480 with 1 Axes>"
      ]
     },
     "metadata": {},
     "output_type": "display_data"
    }
   ],
   "source": [
    "df.cuisine.value_counts().plot.barh()"
   ]
  },
  {
   "cell_type": "code",
   "execution_count": 7,
   "id": "59b2b709-b61c-4573-8251-6fcffd40ee5c",
   "metadata": {},
   "outputs": [],
   "source": [
    "thai_df = df[(df.cuisine == 'thai')]\n",
    "japanes_df = df[(df.cuisine == 'japanese')]\n",
    "chinese_df = df[(df.cuisine == 'chinese')]\n",
    "indian_df = df[(df.cuisine == 'indian')]\n",
    "korean_df = df[(df.cuisine == 'korean')]"
   ]
  },
  {
   "cell_type": "code",
   "execution_count": 8,
   "id": "4302ebf4-ed03-4e7e-bcdc-9617cbae2248",
   "metadata": {},
   "outputs": [
    {
     "name": "stdout",
     "output_type": "stream",
     "text": [
      "thai df : (289, 385)\n",
      "Japanese df : (320, 385)\n",
      "chinese df : (442, 385)\n",
      "Indian df : (598, 385)\n",
      "korean df : (799, 385)\n"
     ]
    }
   ],
   "source": [
    "print(f'thai df : {thai_df.shape}')\n",
    "print(f'Japanese df : {japanes_df.shape}')\n",
    "print(f'chinese df : {chinese_df.shape}')\n",
    "print(f'Indian df : {indian_df.shape}')\n",
    "print(f'korean df : {korean_df.shape}')"
   ]
  },
  {
   "cell_type": "code",
   "execution_count": 9,
   "id": "baebc5ae-3223-4d0f-9827-0734e7fbb8a8",
   "metadata": {},
   "outputs": [],
   "source": [
    "def create_ingredient_df():\n",
    "    ingredient_df = df.T.drop(['cuisine', 'unnamed: 0']).sum(axis=1).to_frame('value')\n",
    "    ingredient_df = ingredient_df[(ingredient_df.T != 0).any()]\n",
    "    ingredient_df = ingredient_df.sort_values(by='value', ascending=False, inplace= False)\n",
    "    return ingredient_df"
   ]
  },
  {
   "cell_type": "code",
   "execution_count": 10,
   "id": "16d89e6d-d958-4984-9f70-5881cea1ee74",
   "metadata": {},
   "outputs": [],
   "source": [
    "thai_df = pd.DataFrame({\n",
    "    'cuisine': ['thai', 'thai', 'thai'],\n",
    "    'unnamed: 0': [0, 1, 2],\n",
    "    'ingredient1': [5, 3, 2],\n",
    "    'ingredient2': [0, 2, 0],\n",
    "    'ingredient3': [1, 0, 3],\n",
    "    'ingredient4': [3, 2, 1]})"
   ]
  },
  {
   "cell_type": "code",
   "execution_count": 11,
   "id": "907b993c-402b-48ad-b488-5a5f53dd613e",
   "metadata": {},
   "outputs": [],
   "source": [
    "thai_df = thai_df.drop(columns=['unnamed: 0'])"
   ]
  },
  {
   "cell_type": "code",
   "execution_count": 12,
   "id": "a9624244-e564-42cb-bee1-3c29ea4e5649",
   "metadata": {},
   "outputs": [
    {
     "name": "stdout",
     "output_type": "stream",
     "text": [
      "  cuisine  ingredient1  ingredient2  ingredient3  ingredient4\n",
      "0    thai            5            0            1            3\n",
      "1    thai            3            2            0            2\n",
      "2    thai            2            0            3            1\n"
     ]
    }
   ],
   "source": [
    "print(thai_df)"
   ]
  },
  {
   "cell_type": "code",
   "execution_count": 13,
   "id": "b91b4a2f-d412-4839-8c40-b34c96194166",
   "metadata": {},
   "outputs": [
    {
     "data": {
      "image/png": "[encoded data removed]",
      "text/plain": [
       "<Figure size 640x480 with 1 Axes>"
      ]
     },
     "metadata": {},
     "output_type": "display_data"
    }
   ],
   "source": [
    "thai_df.head(10).plot.barh()\n",
    "plt.xlabel('Value')\n",
    "plt.title('Top 10 Ingredients by Value')\n",
    "plt.show()"
   ]
  },
  {
   "cell_type": "code",
   "execution_count": 15,
   "id": "f2ded159-7be9-4f87-bc32-b5381a78f8f4",
   "metadata": {},
   "outputs": [],
   "source": [
    "japanese_df = pd.DataFrame({\n",
    "    'cuisine': ['japanese', 'japanese', 'japanese'],\n",
    "    'unnamed: 0': [0, 1, 2],\n",
    "    'ingredient1': [5, 3, 2],\n",
    "    'ingredient2': [0, 2, 0],\n",
    "    'ingredient3': [1, 0, 3],\n",
    "    'ingredient4': [3, 2, 1]})"
   ]
  },
  {
   "cell_type": "code",
   "execution_count": 16,
   "id": "16d2bc74-7e06-4111-ac5f-f89d3b1c76b6",
   "metadata": {},
   "outputs": [],
   "source": [
    "japanese_df = japanese_df.drop(columns=['unnamed: 0'])"
   ]
  },
  {
   "cell_type": "code",
   "execution_count": 18,
   "id": "5861e59a-756f-41eb-aa54-d5d4c1afc096",
   "metadata": {},
   "outputs": [
    {
     "name": "stdout",
     "output_type": "stream",
     "text": [
      "    cuisine  ingredient1  ingredient2  ingredient3  ingredient4\n",
      "0  japanese            5            0            1            3\n",
      "1  japanese            3            2            0            2\n",
      "2  japanese            2            0            3            1\n"
     ]
    }
   ],
   "source": [
    "print(japanese_df)"
   ]
  },
  {
   "cell_type": "code",
   "execution_count": 19,
   "id": "3b2bec86-87b1-4e3d-b114-146d644e3ca5",
   "metadata": {},
   "outputs": [
    {
     "data": {
      "image/png": "[encoded data removed]",
      "text/plain": [
       "<Figure size 640x480 with 1 Axes>"
      ]
     },
     "metadata": {},
     "output_type": "display_data"
    }
   ],
   "source": [
    "japanese_df.head(10).plot.barh()\n",
    "plt.xlabel('Value')\n",
    "plt.title('Top 10 Ingredients by Value')\n",
    "plt.show()"
   ]
  },
  {
   "cell_type": "code",
   "execution_count": 21,
   "id": "3e8d90fb-6a32-45f8-9d66-c8b4effc3c5c",
   "metadata": {},
   "outputs": [],
   "source": [
    "chinese_df = pd.DataFrame({\n",
    "    'cuisine': ['chinese', 'chinese', 'chinese'],\n",
    "    'unnamed: 0': [0, 1, 2],\n",
    "    'ingredient1': [5, 3, 2],\n",
    "    'ingredient2': [0, 2, 0],\n",
    "    'ingredient3': [1, 0, 3],\n",
    "    'ingredient4': [3, 2, 1]})"
   ]
  },
  {
   "cell_type": "code",
   "execution_count": 22,
   "id": "762fe72d-00f6-4421-9e1c-8d72004672b4",
   "metadata": {},
   "outputs": [],
   "source": [
    "chinese_df = chinese_df.drop(columns=['unnamed: 0'])"
   ]
  },
  {
   "cell_type": "code",
   "execution_count": 23,
   "id": "18685a5f-4fbd-43c4-8f8e-54b5a0dc049a",
   "metadata": {},
   "outputs": [
    {
     "name": "stdout",
     "output_type": "stream",
     "text": [
      "   cuisine  ingredient1  ingredient2  ingredient3  ingredient4\n",
      "0  chinese            5            0            1            3\n",
      "1  chinese            3            2            0            2\n",
      "2  chinese            2            0            3            1\n"
     ]
    }
   ],
   "source": [
    "print(chinese_df)"
   ]
  },
  {
   "cell_type": "code",
   "execution_count": 25,
   "id": "cadf132b-4904-45c6-99e0-37b0a4ded1d2",
   "metadata": {},
   "outputs": [
    {
     "data": {
      "image/png": "[encoded data removed]",
      "text/plain": [
       "<Figure size 640x480 with 1 Axes>"
      ]
     },
     "metadata": {},
     "output_type": "display_data"
    }
   ],
   "source": [
    "chinese_df.head(10).plot.barh()\n",
    "plt.xlabel('Value')\n",
    "plt.title('Top 10 Ingredients by Value')\n",
    "plt.show()"
   ]
  },
  {
   "cell_type": "code",
   "execution_count": 27,
   "id": "08fb88aa-7e36-4564-9217-4f6dee8755d7",
   "metadata": {},
   "outputs": [],
   "source": [
    "indian_df = pd.DataFrame({\n",
    "    'cuisine': ['indian', 'indian', 'indian'],\n",
    "    'unnamed: 0': [0, 1, 2],\n",
    "    'ingredient1': [5, 3, 2],\n",
    "    'ingredient2': [0, 2, 0],\n",
    "    'ingredient3': [1, 0, 3],\n",
    "    'ingredient4': [3, 2, 1]})"
   ]
  },
  {
   "cell_type": "code",
   "execution_count": 29,
   "id": "dfbc5f15-0ada-44dd-978e-144e14eaeb71",
   "metadata": {},
   "outputs": [],
   "source": [
    "indian_df = indian_df.drop(columns=['unnamed: 0'])"
   ]
  },
  {
   "cell_type": "code",
   "execution_count": 30,
   "id": "b9b422f3-4d35-4832-9e34-d044224954de",
   "metadata": {},
   "outputs": [
    {
     "name": "stdout",
     "output_type": "stream",
     "text": [
      "  cuisine  ingredient1  ingredient2  ingredient3  ingredient4\n",
      "0  indian            5            0            1            3\n",
      "1  indian            3            2            0            2\n",
      "2  indian            2            0            3            1\n"
     ]
    }
   ],
   "source": [
    "print(indian_df)"
   ]
  },
  {
   "cell_type": "code",
   "execution_count": 31,
   "id": "3f8a3b8a-edd9-432b-b345-82b5d6e3a2fc",
   "metadata": {},
   "outputs": [
    {
     "data": {
      "image/png": "[encoded data removed]",
      "text/plain": [
       "<Figure size 640x480 with 1 Axes>"
      ]
     },
     "metadata": {},
     "output_type": "display_data"
    }
   ],
   "source": [
    "indian_df.head(10).plot.barh()\n",
    "plt.xlabel('Value')\n",
    "plt.title('Top 10 Ingredients by Value')\n",
    "plt.show()"
   ]
  },
  {
   "cell_type": "code",
   "execution_count": 32,
   "id": "6ed680fd-063e-40d1-81bc-386c0dae04b6",
   "metadata": {},
   "outputs": [],
   "source": [
    "korean_df = pd.DataFrame({\n",
    "    'cuisine': ['korean', 'korean', 'korean'],\n",
    "    'unnamed: 0': [0, 1, 2],\n",
    "    'ingredient1': [5, 3, 2],\n",
    "    'ingredient2': [0, 2, 0],\n",
    "    'ingredient3': [1, 0, 3],\n",
    "    'ingredient4': [3, 2, 1]})"
   ]
  },
  {
   "cell_type": "code",
   "execution_count": 33,
   "id": "fab44cb8-7704-439c-85bb-4440c9447c2d",
   "metadata": {},
   "outputs": [],
   "source": [
    "korean_df = korean_df.drop(columns=['unnamed: 0'])"
   ]
  },
  {
   "cell_type": "code",
   "execution_count": 38,
   "id": "9c0d3336-b7fd-4208-a5fe-6dd41c9daf23",
   "metadata": {},
   "outputs": [
    {
     "name": "stdout",
     "output_type": "stream",
     "text": [
      "  cuisine  ingredient1  ingredient2  ingredient3  ingredient4\n",
      "0  korean            5            0            1            3\n",
      "1  korean            3            2            0            2\n",
      "2  korean            2            0            3            1\n"
     ]
    }
   ],
   "source": [
    "print(korean_df)"
   ]
  },
  {
   "cell_type": "code",
   "execution_count": 36,
   "id": "cf50c20a-75c7-4bd6-9296-4f8054c912de",
   "metadata": {},
   "outputs": [
    {
     "data": {
      "image/png": "[encoded data removed]",
      "text/plain": [
       "<Figure size 640x480 with 1 Axes>"
      ]
     },
     "metadata": {},
     "output_type": "display_data"
    }
   ],
   "source": [
    "korean_df.head(10).plot.barh()\n",
    "plt.xlabel('Value')\n",
    "plt.title('Top 10 Ingredients by Value')\n",
    "plt.show()"
   ]
  },
  {
   "cell_type": "code",
   "execution_count": 39,
   "id": "d583c9ee-86a1-473f-9f27-59a77296ad4d",
   "metadata": {},
   "outputs": [],
   "source": [
    "columns_to_drop = ['cuisine', 'rice', 'garlic', 'ginger']\n",
    "if 'unnamed: 0' in df.columns:\n",
    "    columns_to_drop.append('unnamed: 0')"
   ]
  },
  {
   "cell_type": "code",
   "execution_count": 40,
   "id": "f14a01bd-4119-4be1-88ce-c392e56f6492",
   "metadata": {},
   "outputs": [],
   "source": [
    "feature_df = df.drop(columns=columns_to_drop, errors='ignore')"
   ]
  },
  {
   "cell_type": "code",
   "execution_count": 41,
   "id": "01bde71c-22b8-454d-bf4e-2164ca588ca8",
   "metadata": {},
   "outputs": [],
   "source": [
    "labels_df = df['cuisine']"
   ]
  },
  {
   "cell_type": "code",
   "execution_count": 42,
   "id": "fd33ffe8-87c4-4510-a1d8-1b057c952e67",
   "metadata": {},
   "outputs": [
    {
     "data": {
      "text/html": [
       "<div>\n",
       "<style scoped>\n",
       "    .dataframe tbody tr th:only-of-type {\n",
       "        vertical-align: middle;\n",
       "    }\n",
       "\n",
       "    .dataframe tbody tr th {\n",
       "        vertical-align: top;\n",
       "    }\n",
       "\n",
       "    .dataframe thead th {\n",
       "        text-align: right;\n",
       "    }\n",
       "</style>\n",
       "<table border=\"1\" class=\"dataframe\">\n",
       "  <thead>\n",
       "    <tr style=\"text-align: right;\">\n",
       "      <th></th>\n",
       "      <th>Unnamed: 0</th>\n",
       "      <th>almond</th>\n",
       "      <th>angelica</th>\n",
       "      <th>anise</th>\n",
       "      <th>anise_seed</th>\n",
       "      <th>apple</th>\n",
       "      <th>apple_brandy</th>\n",
       "      <th>apricot</th>\n",
       "      <th>armagnac</th>\n",
       "      <th>artemisia</th>\n",
       "      <th>...</th>\n",
       "      <th>whiskey</th>\n",
       "      <th>white_bread</th>\n",
       "      <th>white_wine</th>\n",
       "      <th>whole_grain_wheat_flour</th>\n",
       "      <th>wine</th>\n",
       "      <th>wood</th>\n",
       "      <th>yam</th>\n",
       "      <th>yeast</th>\n",
       "      <th>yogurt</th>\n",
       "      <th>zucchini</th>\n",
       "    </tr>\n",
       "  </thead>\n",
       "  <tbody>\n",
       "    <tr>\n",
       "      <th>0</th>\n",
       "      <td>65</td>\n",
       "      <td>0</td>\n",
       "      <td>0</td>\n",
       "      <td>0</td>\n",
       "      <td>0</td>\n",
       "      <td>0</td>\n",
       "      <td>0</td>\n",
       "      <td>0</td>\n",
       "      <td>0</td>\n",
       "      <td>0</td>\n",
       "      <td>...</td>\n",
       "      <td>0</td>\n",
       "      <td>0</td>\n",
       "      <td>0</td>\n",
       "      <td>0</td>\n",
       "      <td>0</td>\n",
       "      <td>0</td>\n",
       "      <td>0</td>\n",
       "      <td>0</td>\n",
       "      <td>0</td>\n",
       "      <td>0</td>\n",
       "    </tr>\n",
       "    <tr>\n",
       "      <th>1</th>\n",
       "      <td>66</td>\n",
       "      <td>1</td>\n",
       "      <td>0</td>\n",
       "      <td>0</td>\n",
       "      <td>0</td>\n",
       "      <td>0</td>\n",
       "      <td>0</td>\n",
       "      <td>0</td>\n",
       "      <td>0</td>\n",
       "      <td>0</td>\n",
       "      <td>...</td>\n",
       "      <td>0</td>\n",
       "      <td>0</td>\n",
       "      <td>0</td>\n",
       "      <td>0</td>\n",
       "      <td>0</td>\n",
       "      <td>0</td>\n",
       "      <td>0</td>\n",
       "      <td>0</td>\n",
       "      <td>0</td>\n",
       "      <td>0</td>\n",
       "    </tr>\n",
       "    <tr>\n",
       "      <th>2</th>\n",
       "      <td>67</td>\n",
       "      <td>0</td>\n",
       "      <td>0</td>\n",
       "      <td>0</td>\n",
       "      <td>0</td>\n",
       "      <td>0</td>\n",
       "      <td>0</td>\n",
       "      <td>0</td>\n",
       "      <td>0</td>\n",
       "      <td>0</td>\n",
       "      <td>...</td>\n",
       "      <td>0</td>\n",
       "      <td>0</td>\n",
       "      <td>0</td>\n",
       "      <td>0</td>\n",
       "      <td>0</td>\n",
       "      <td>0</td>\n",
       "      <td>0</td>\n",
       "      <td>0</td>\n",
       "      <td>0</td>\n",
       "      <td>0</td>\n",
       "    </tr>\n",
       "    <tr>\n",
       "      <th>3</th>\n",
       "      <td>68</td>\n",
       "      <td>0</td>\n",
       "      <td>0</td>\n",
       "      <td>0</td>\n",
       "      <td>0</td>\n",
       "      <td>0</td>\n",
       "      <td>0</td>\n",
       "      <td>0</td>\n",
       "      <td>0</td>\n",
       "      <td>0</td>\n",
       "      <td>...</td>\n",
       "      <td>0</td>\n",
       "      <td>0</td>\n",
       "      <td>0</td>\n",
       "      <td>0</td>\n",
       "      <td>0</td>\n",
       "      <td>0</td>\n",
       "      <td>0</td>\n",
       "      <td>0</td>\n",
       "      <td>0</td>\n",
       "      <td>0</td>\n",
       "    </tr>\n",
       "    <tr>\n",
       "      <th>4</th>\n",
       "      <td>69</td>\n",
       "      <td>0</td>\n",
       "      <td>0</td>\n",
       "      <td>0</td>\n",
       "      <td>0</td>\n",
       "      <td>0</td>\n",
       "      <td>0</td>\n",
       "      <td>0</td>\n",
       "      <td>0</td>\n",
       "      <td>0</td>\n",
       "      <td>...</td>\n",
       "      <td>0</td>\n",
       "      <td>0</td>\n",
       "      <td>0</td>\n",
       "      <td>0</td>\n",
       "      <td>0</td>\n",
       "      <td>0</td>\n",
       "      <td>0</td>\n",
       "      <td>0</td>\n",
       "      <td>1</td>\n",
       "      <td>0</td>\n",
       "    </tr>\n",
       "  </tbody>\n",
       "</table>\n",
       "<p>5 rows × 381 columns</p>\n",
       "</div>"
      ],
      "text/plain": [
       "   Unnamed: 0  almond  angelica  anise  anise_seed  apple  apple_brandy  \\\n",
       "0          65       0         0      0           0      0             0   \n",
       "1          66       1         0      0           0      0             0   \n",
       "2          67       0         0      0           0      0             0   \n",
       "3          68       0         0      0           0      0             0   \n",
       "4          69       0         0      0           0      0             0   \n",
       "\n",
       "   apricot  armagnac  artemisia  ...  whiskey  white_bread  white_wine  \\\n",
       "0        0         0          0  ...        0            0           0   \n",
       "1        0         0          0  ...        0            0           0   \n",
       "2        0         0          0  ...        0            0           0   \n",
       "3        0         0          0  ...        0            0           0   \n",
       "4        0         0          0  ...        0            0           0   \n",
       "\n",
       "   whole_grain_wheat_flour  wine  wood  yam  yeast  yogurt  zucchini  \n",
       "0                        0     0     0    0      0       0         0  \n",
       "1                        0     0     0    0      0       0         0  \n",
       "2                        0     0     0    0      0       0         0  \n",
       "3                        0     0     0    0      0       0         0  \n",
       "4                        0     0     0    0      0       1         0  \n",
       "\n",
       "[5 rows x 381 columns]"
      ]
     },
     "execution_count": 42,
     "metadata": {},
     "output_type": "execute_result"
    }
   ],
   "source": [
    "feature_df.head()"
   ]
  },
  {
   "cell_type": "code",
   "execution_count": 43,
   "id": "bb1cc805-0ddb-4e54-8747-88d99742440c",
   "metadata": {},
   "outputs": [],
   "source": [
    "from imblearn.over_sampling import SMOTE\n",
    "oversample = SMOTE()\n",
    "transformed_feature_df, transformed_label_df = oversample.fit_resample(feature_df, labels_df)"
   ]
  },
  {
   "cell_type": "code",
   "execution_count": 45,
   "id": "53749ab9-fb15-4370-b938-ab0692629b9a",
   "metadata": {},
   "outputs": [
    {
     "name": "stdout",
     "output_type": "stream",
     "text": [
      "new label count: cuisine\n",
      "indian      799\n",
      "thai        799\n",
      "chinese     799\n",
      "japanese    799\n",
      "korean      799\n",
      "Name: count, dtype: int64\n",
      "old label count :(labels_df.value_counts())\n"
     ]
    }
   ],
   "source": [
    "print(f'new label count: {transformed_label_df.value_counts()}')\n",
    "print(f'old label count :(labels_df.value_counts())')"
   ]
  },
  {
   "cell_type": "code",
   "execution_count": 46,
   "id": "d03b6710-c693-4a47-8448-c558420d9c9f",
   "metadata": {},
   "outputs": [],
   "source": [
    "from sklearn.linear_model import LogisticRegression\n",
    "from sklearn.model_selection import train_test_split, cross_val_score\n",
    "from sklearn.metrics import accuracy_score, classification_report"
   ]
  },
  {
   "cell_type": "code",
   "execution_count": 48,
   "id": "0b40b325-3176-43de-b61e-3cdf2b20dc6a",
   "metadata": {},
   "outputs": [],
   "source": [
    "x_train, x_test, y_train, y_test = train_test_split(transformed_feature_df, transformed_label_df, test_size = 0.3)"
   ]
  },
  {
   "cell_type": "code",
   "execution_count": 54,
   "id": "ba0ab9f6-8c41-4527-b7ef-703892dae485",
   "metadata": {},
   "outputs": [
    {
     "name": "stdout",
     "output_type": "stream",
     "text": [
      "Accuracy is {} 0.6163469557964971\n"
     ]
    }
   ],
   "source": [
    "lr = LogisticRegression(multi_class='ovr', solver='liblinear')\n",
    "model = lr.fit(x_train, np.ravel(y_train))\n",
    "accuracy = model.score(x_test, y_test)\n",
    "print(\"Accuracy is {}\",format(accuracy))"
   ]
  },
  {
   "cell_type": "code",
   "execution_count": 55,
   "id": "5d523f7c-f9fc-41de-ba9b-e087a5b2cba9",
   "metadata": {},
   "outputs": [
    {
     "name": "stdout",
     "output_type": "stream",
     "text": [
      "ingredients: Index(['Unnamed: 0', 'cayenne', 'kelp', 'matsutake', 'sesame_oil', 'shiitake',\n",
      "       'soy_sauce', 'starch', 'tomato', 'vegetable', 'vegetable_oil'],\n",
      "      dtype='object')\n",
      "cuisine: (y_test.iloc[50]]\n"
     ]
    }
   ],
   "source": [
    "print(f'ingredients: {x_test.iloc[50][x_test.iloc[50] != 0].keys()}')\n",
    "print(f'cuisine: (y_test.iloc[50]]')"
   ]
  },
  {
   "cell_type": "code",
   "execution_count": 56,
   "id": "a83e90f0-0e0c-4066-952a-548a0c169b91",
   "metadata": {},
   "outputs": [
    {
     "name": "stderr",
     "output_type": "stream",
     "text": [
      "C:\\Users\\VIZECH\\anaconda3\\Lib\\site-packages\\sklearn\\base.py:439: UserWarning: X does not have valid feature names, but LogisticRegression was fitted with feature names\n",
      "  warnings.warn(\n"
     ]
    },
    {
     "data": {
      "text/html": [
       "<div>\n",
       "<style scoped>\n",
       "    .dataframe tbody tr th:only-of-type {\n",
       "        vertical-align: middle;\n",
       "    }\n",
       "\n",
       "    .dataframe tbody tr th {\n",
       "        vertical-align: top;\n",
       "    }\n",
       "\n",
       "    .dataframe thead th {\n",
       "        text-align: right;\n",
       "    }\n",
       "</style>\n",
       "<table border=\"1\" class=\"dataframe\">\n",
       "  <thead>\n",
       "    <tr style=\"text-align: right;\">\n",
       "      <th></th>\n",
       "      <th>0</th>\n",
       "    </tr>\n",
       "  </thead>\n",
       "  <tbody>\n",
       "    <tr>\n",
       "      <th>korean</th>\n",
       "      <td>0.380909</td>\n",
       "    </tr>\n",
       "    <tr>\n",
       "      <th>chinese</th>\n",
       "      <td>0.322006</td>\n",
       "    </tr>\n",
       "    <tr>\n",
       "      <th>indian</th>\n",
       "      <td>0.124165</td>\n",
       "    </tr>\n",
       "    <tr>\n",
       "      <th>japanese</th>\n",
       "      <td>0.111186</td>\n",
       "    </tr>\n",
       "    <tr>\n",
       "      <th>thai</th>\n",
       "      <td>0.061736</td>\n",
       "    </tr>\n",
       "  </tbody>\n",
       "</table>\n",
       "</div>"
      ],
      "text/plain": [
       "                 0\n",
       "korean    0.380909\n",
       "chinese   0.322006\n",
       "indian    0.124165\n",
       "japanese  0.111186\n",
       "thai      0.061736"
      ]
     },
     "execution_count": 56,
     "metadata": {},
     "output_type": "execute_result"
    }
   ],
   "source": [
    "test = x_test.iloc[50].values.reshape(-1,1).T\n",
    "proba = model.predict_proba(test)\n",
    "classes = model.classes_\n",
    "resultdf = pd.DataFrame(data=proba, columns= classes)\n",
    "\n",
    "toppred = resultdf.T.sort_values(by=[0], ascending=[False])\n",
    "toppred.head()"
   ]
  },
  {
   "cell_type": "code",
   "execution_count": 57,
   "id": "04be3c06-e5a2-4557-bbe3-f7f7a1efbd43",
   "metadata": {},
   "outputs": [
    {
     "name": "stdout",
     "output_type": "stream",
     "text": [
      "              precision    recall  f1-score   support\n",
      "\n",
      "     chinese       0.74      0.50      0.59       242\n",
      "      indian       0.65      0.80      0.72       244\n",
      "    japanese       0.52      0.57      0.55       244\n",
      "      korean       0.60      0.81      0.69       242\n",
      "        thai       0.63      0.39      0.48       227\n",
      "\n",
      "    accuracy                           0.62      1199\n",
      "   macro avg       0.63      0.61      0.60      1199\n",
      "weighted avg       0.63      0.62      0.61      1199\n",
      "\n"
     ]
    }
   ],
   "source": [
    "y_pred = model.predict(x_test)\n",
    "print(classification_report(y_test, y_pred))"
   ]
  },
  {
   "cell_type": "code",
   "execution_count": null,
   "id": "cd025f4e-60f4-4d15-ab1f-0666f91dee49",
   "metadata": {},
   "outputs": [],
   "source": []
  }
 ],
 "metadata": {
  "kernelspec": {
   "display_name": "Python 3 (ipykernel)",
   "language": "python",
   "name": "python3"
  },
  "language_info": {
   "codemirror_mode": {
    "name": "ipython",
    "version": 3
   },
   "file_extension": ".py",
   "mimetype": "text/x-python",
   "name": "python",
   "nbconvert_exporter": "python",
   "pygments_lexer": "ipython3",
   "version": "3.11.7"
  }
 },
 "nbformat": 4,
 "nbformat_minor": 5
}
