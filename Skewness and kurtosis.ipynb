{
 "cells": [
  {
   "cell_type": "code",
   "execution_count": 1,
   "id": "ed416758-8bd0-460d-99ae-097fc20a4630",
   "metadata": {},
   "outputs": [
    {
     "name": "stdout",
     "output_type": "stream",
     "text": [
      "0.0\n"
     ]
    }
   ],
   "source": [
    "import numpy as np\n",
    "from statsmodels.stats.stattools import medcouple\n",
    "\n",
    "x = np.array([2, 4, 5, 7, 8, 9, 11, 15])\n",
    "skewness = medcouple(x)\n",
    "\n",
    "print(skewness)\n"
   ]
  },
  {
   "cell_type": "code",
   "execution_count": 3,
   "id": "346047f1-6841-43e4-9012-8b223128de66",
   "metadata": {},
   "outputs": [
    {
     "data": {
      "text/plain": [
       "-0.5988228527065362"
      ]
     },
     "execution_count": 3,
     "metadata": {},
     "output_type": "execute_result"
    }
   ],
   "source": [
    "import numpy as np\n",
    "from scipy.stats import kurtosis\n",
    "\n",
    "x = np.array([2, 4, 5, 7, 8, 9, 11, 15])\n",
    "\n",
    "kurtosis_value = kurtosis(x)\n",
    "kurtosis_value\n"
   ]
  },
  {
   "cell_type": "code",
   "execution_count": null,
   "id": "9fddeaec-3595-4c41-8b21-d6258eea2024",
   "metadata": {},
   "outputs": [],
   "source": []
  },
  {
   "cell_type": "code",
   "execution_count": null,
   "id": "9b86bbf5-ad76-4891-9891-1bc5bc65c131",
   "metadata": {},
   "outputs": [],
   "source": []
  }
 ],
 "metadata": {
  "kernelspec": {
   "display_name": "Python 3 (ipykernel)",
   "language": "python",
   "name": "python3"
  },
  "language_info": {
   "codemirror_mode": {
    "name": "ipython",
    "version": 3
   },
   "file_extension": ".py",
   "mimetype": "text/x-python",
   "name": "python",
   "nbconvert_exporter": "python",
   "pygments_lexer": "ipython3",
   "version": "3.12.4"
  }
 },
 "nbformat": 4,
 "nbformat_minor": 5
}
