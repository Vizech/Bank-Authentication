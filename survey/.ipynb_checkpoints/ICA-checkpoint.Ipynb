{
 "cells": [
  {
   "cell_type": "code",
   "execution_count": 18,
   "id": "cc76235e-dd1e-4d7a-8bf7-04bf42b84df9",
   "metadata": {},
   "outputs": [],
   "source": [
    "from sklearn.decomposition import FastICA\n",
    "import pandas as pd\n",
    "import matplotlib.pyplot as plt\n",
    "%matplotlib inline\n",
    "from sklearn.impute import SimpleImputer"
   ]
  },
  {
   "cell_type": "code",
   "execution_count": 19,
   "id": "354408b3-a374-4ad1-af35-7fbd67c16c16",
   "metadata": {},
   "outputs": [
    {
     "data": {
      "text/html": [
       "<div>\n",
       "<style scoped>\n",
       "    .dataframe tbody tr th:only-of-type {\n",
       "        vertical-align: middle;\n",
       "    }\n",
       "\n",
       "    .dataframe tbody tr th {\n",
       "        vertical-align: top;\n",
       "    }\n",
       "\n",
       "    .dataframe thead th {\n",
       "        text-align: right;\n",
       "    }\n",
       "</style>\n",
       "<table border=\"1\" class=\"dataframe\">\n",
       "  <thead>\n",
       "    <tr style=\"text-align: right;\">\n",
       "      <th></th>\n",
       "      <th>1977</th>\n",
       "      <th>Unnamed: 1</th>\n",
       "      <th>Unnamed: 2</th>\n",
       "      <th>Unnamed: 3</th>\n",
       "      <th>Unnamed: 4</th>\n",
       "      <th>Unnamed: 5</th>\n",
       "      <th>Unnamed: 6</th>\n",
       "      <th>Unnamed: 7</th>\n",
       "      <th>Unnamed: 8</th>\n",
       "      <th>1978</th>\n",
       "      <th>...</th>\n",
       "      <th>Unnamed: 25</th>\n",
       "      <th>Unnamed: 26</th>\n",
       "      <th>1980</th>\n",
       "      <th>Unnamed: 28</th>\n",
       "      <th>Unnamed: 29</th>\n",
       "      <th>Unnamed: 30</th>\n",
       "      <th>Unnamed: 31</th>\n",
       "      <th>Unnamed: 32</th>\n",
       "      <th>Unnamed: 33</th>\n",
       "      <th>Unnamed: 34</th>\n",
       "    </tr>\n",
       "  </thead>\n",
       "  <tbody>\n",
       "    <tr>\n",
       "      <th>0</th>\n",
       "      <td>record_id</td>\n",
       "      <td>month</td>\n",
       "      <td>day</td>\n",
       "      <td>year</td>\n",
       "      <td>plot</td>\n",
       "      <td>species</td>\n",
       "      <td>sex</td>\n",
       "      <td>wgt</td>\n",
       "      <td>NaN</td>\n",
       "      <td>record_id</td>\n",
       "      <td>...</td>\n",
       "      <td>wgt</td>\n",
       "      <td>NaN</td>\n",
       "      <td>record_id</td>\n",
       "      <td>month</td>\n",
       "      <td>day</td>\n",
       "      <td>year</td>\n",
       "      <td>plot</td>\n",
       "      <td>species</td>\n",
       "      <td>sex</td>\n",
       "      <td>wgt</td>\n",
       "    </tr>\n",
       "    <tr>\n",
       "      <th>1</th>\n",
       "      <td>1</td>\n",
       "      <td>7</td>\n",
       "      <td>16</td>\n",
       "      <td>1977</td>\n",
       "      <td>2</td>\n",
       "      <td>NaN</td>\n",
       "      <td>M</td>\n",
       "      <td>NaN</td>\n",
       "      <td>NaN</td>\n",
       "      <td>504</td>\n",
       "      <td>...</td>\n",
       "      <td>37</td>\n",
       "      <td>NaN</td>\n",
       "      <td>2271</td>\n",
       "      <td>1</td>\n",
       "      <td>15</td>\n",
       "      <td>1980</td>\n",
       "      <td>8</td>\n",
       "      <td>DO</td>\n",
       "      <td>M</td>\n",
       "      <td>53</td>\n",
       "    </tr>\n",
       "    <tr>\n",
       "      <th>2</th>\n",
       "      <td>2</td>\n",
       "      <td>7</td>\n",
       "      <td>16</td>\n",
       "      <td>1977</td>\n",
       "      <td>3</td>\n",
       "      <td>NaN</td>\n",
       "      <td>M</td>\n",
       "      <td>NaN</td>\n",
       "      <td>NaN</td>\n",
       "      <td>505</td>\n",
       "      <td>...</td>\n",
       "      <td>128</td>\n",
       "      <td>NaN</td>\n",
       "      <td>2272</td>\n",
       "      <td>1</td>\n",
       "      <td>15</td>\n",
       "      <td>1980</td>\n",
       "      <td>11</td>\n",
       "      <td>PF</td>\n",
       "      <td>F</td>\n",
       "      <td>10</td>\n",
       "    </tr>\n",
       "    <tr>\n",
       "      <th>3</th>\n",
       "      <td>3</td>\n",
       "      <td>7</td>\n",
       "      <td>16</td>\n",
       "      <td>1977</td>\n",
       "      <td>2</td>\n",
       "      <td>DM</td>\n",
       "      <td>F</td>\n",
       "      <td>NaN</td>\n",
       "      <td>NaN</td>\n",
       "      <td>506</td>\n",
       "      <td>...</td>\n",
       "      <td>42</td>\n",
       "      <td>NaN</td>\n",
       "      <td>2273</td>\n",
       "      <td>1</td>\n",
       "      <td>15</td>\n",
       "      <td>1980</td>\n",
       "      <td>18</td>\n",
       "      <td>DM</td>\n",
       "      <td>F</td>\n",
       "      <td>33</td>\n",
       "    </tr>\n",
       "    <tr>\n",
       "      <th>4</th>\n",
       "      <td>4</td>\n",
       "      <td>7</td>\n",
       "      <td>16</td>\n",
       "      <td>1977</td>\n",
       "      <td>7</td>\n",
       "      <td>DM</td>\n",
       "      <td>M</td>\n",
       "      <td>NaN</td>\n",
       "      <td>NaN</td>\n",
       "      <td>507</td>\n",
       "      <td>...</td>\n",
       "      <td>37</td>\n",
       "      <td>NaN</td>\n",
       "      <td>2274</td>\n",
       "      <td>1</td>\n",
       "      <td>15</td>\n",
       "      <td>1980</td>\n",
       "      <td>11</td>\n",
       "      <td>DM</td>\n",
       "      <td>M</td>\n",
       "      <td>37</td>\n",
       "    </tr>\n",
       "  </tbody>\n",
       "</table>\n",
       "<p>5 rows × 35 columns</p>\n",
       "</div>"
      ],
      "text/plain": [
       "        1977 Unnamed: 1 Unnamed: 2 Unnamed: 3 Unnamed: 4 Unnamed: 5  \\\n",
       "0  record_id      month        day       year       plot    species   \n",
       "1          1          7         16       1977          2        NaN   \n",
       "2          2          7         16       1977          3        NaN   \n",
       "3          3          7         16       1977          2         DM   \n",
       "4          4          7         16       1977          7         DM   \n",
       "\n",
       "  Unnamed: 6 Unnamed: 7  Unnamed: 8       1978  ... Unnamed: 25 Unnamed: 26  \\\n",
       "0        sex        wgt         NaN  record_id  ...         wgt         NaN   \n",
       "1          M        NaN         NaN        504  ...          37         NaN   \n",
       "2          M        NaN         NaN        505  ...         128         NaN   \n",
       "3          F        NaN         NaN        506  ...          42         NaN   \n",
       "4          M        NaN         NaN        507  ...          37         NaN   \n",
       "\n",
       "        1980 Unnamed: 28 Unnamed: 29 Unnamed: 30 Unnamed: 31  Unnamed: 32  \\\n",
       "0  record_id       month         day        year        plot      species   \n",
       "1       2271           1          15        1980           8           DO   \n",
       "2       2272           1          15        1980          11           PF   \n",
       "3       2273           1          15        1980          18           DM   \n",
       "4       2274           1          15        1980          11           DM   \n",
       "\n",
       "  Unnamed: 33 Unnamed: 34  \n",
       "0         sex         wgt  \n",
       "1           M          53  \n",
       "2           F          10  \n",
       "3           F          33  \n",
       "4           M          37  \n",
       "\n",
       "[5 rows x 35 columns]"
      ]
     },
     "execution_count": 19,
     "metadata": {},
     "output_type": "execute_result"
    }
   ],
   "source": [
    "data = pd.read_csv('survey_Data.csv')\n",
    "data.head()"
   ]
  },
  {
   "cell_type": "code",
   "execution_count": 20,
   "id": "f8e4939b-8709-45c3-9f76-dc02bf9873af",
   "metadata": {},
   "outputs": [
    {
     "name": "stdout",
     "output_type": "stream",
     "text": [
      "<class 'pandas.core.frame.DataFrame'>\n",
      "RangeIndex: 1416 entries, 0 to 1415\n",
      "Data columns (total 35 columns):\n",
      " #   Column       Non-Null Count  Dtype  \n",
      "---  ------       --------------  -----  \n",
      " 0   1977         504 non-null    object \n",
      " 1   Unnamed: 1   504 non-null    object \n",
      " 2   Unnamed: 2   504 non-null    object \n",
      " 3   Unnamed: 3   504 non-null    object \n",
      " 4   Unnamed: 4   504 non-null    object \n",
      " 5   Unnamed: 5   457 non-null    object \n",
      " 6   Unnamed: 6   419 non-null    object \n",
      " 7   Unnamed: 7   267 non-null    object \n",
      " 8   Unnamed: 8   0 non-null      float64\n",
      " 9   1978         1049 non-null   object \n",
      " 10  Unnamed: 10  1049 non-null   object \n",
      " 11  Unnamed: 11  1049 non-null   object \n",
      " 12  Unnamed: 12  1049 non-null   object \n",
      " 13  Unnamed: 13  1049 non-null   object \n",
      " 14  Unnamed: 14  945 non-null    object \n",
      " 15  Unnamed: 15  937 non-null    object \n",
      " 16  Unnamed: 16  869 non-null    object \n",
      " 17  Unnamed: 17  0 non-null      float64\n",
      " 18  1979         720 non-null    object \n",
      " 19  Unnamed: 19  720 non-null    object \n",
      " 20  Unnamed: 20  720 non-null    object \n",
      " 21  Unnamed: 21  720 non-null    object \n",
      " 22  Unnamed: 22  720 non-null    object \n",
      " 23  Unnamed: 23  629 non-null    object \n",
      " 24  Unnamed: 24  652 non-null    object \n",
      " 25  Unnamed: 25  639 non-null    object \n",
      " 26  Unnamed: 26  0 non-null      float64\n",
      " 27  1980         1416 non-null   object \n",
      " 28  Unnamed: 28  1416 non-null   object \n",
      " 29  Unnamed: 29  1416 non-null   object \n",
      " 30  Unnamed: 30  1416 non-null   object \n",
      " 31  Unnamed: 31  1416 non-null   object \n",
      " 32  Unnamed: 32  1319 non-null   object \n",
      " 33  Unnamed: 33  1333 non-null   object \n",
      " 34  Unnamed: 34  1318 non-null   object \n",
      "dtypes: float64(3), object(32)\n",
      "memory usage: 387.3+ KB\n"
     ]
    }
   ],
   "source": [
    "data.info()"
   ]
  },
  {
   "cell_type": "code",
   "execution_count": 21,
   "id": "808ef3d7-b60d-42b3-89c3-aa6323a2704b",
   "metadata": {},
   "outputs": [],
   "source": [
    "data.columns = [f'Column_{i}' if 'Unnamed' in col else col for i, col in enumerate(data.columns)]\n"
   ]
  },
  {
   "cell_type": "code",
   "execution_count": 22,
   "id": "4f84cc3d-e73a-4e3b-a86c-991f84f6a03a",
   "metadata": {},
   "outputs": [
    {
     "name": "stdout",
     "output_type": "stream",
     "text": [
      "Updated Columns:\n",
      "Index(['1977', 'Column_1', 'Column_2', 'Column_3', 'Column_4', 'Column_5',\n",
      "       'Column_6', 'Column_7', 'Column_8', '1978', 'Column_10', 'Column_11',\n",
      "       'Column_12', 'Column_13', 'Column_14', 'Column_15', 'Column_16',\n",
      "       'Column_17', '1979', 'Column_19', 'Column_20', 'Column_21', 'Column_22',\n",
      "       'Column_23', 'Column_24', 'Column_25', 'Column_26', '1980', 'Column_28',\n",
      "       'Column_29', 'Column_30', 'Column_31', 'Column_32', 'Column_33',\n",
      "       'Column_34'],\n",
      "      dtype='object')\n"
     ]
    }
   ],
   "source": [
    "print(\"Updated Columns:\")\n",
    "print(data.columns)"
   ]
  },
  {
   "cell_type": "code",
   "execution_count": 23,
   "id": "1875eebf-581b-441e-8404-a55982dafa76",
   "metadata": {},
   "outputs": [
    {
     "name": "stdout",
     "output_type": "stream",
     "text": [
      "<class 'pandas.core.frame.DataFrame'>\n",
      "RangeIndex: 1416 entries, 0 to 1415\n",
      "Data columns (total 35 columns):\n",
      " #   Column     Non-Null Count  Dtype  \n",
      "---  ------     --------------  -----  \n",
      " 0   1977       504 non-null    object \n",
      " 1   Column_1   504 non-null    object \n",
      " 2   Column_2   504 non-null    object \n",
      " 3   Column_3   504 non-null    object \n",
      " 4   Column_4   504 non-null    object \n",
      " 5   Column_5   457 non-null    object \n",
      " 6   Column_6   419 non-null    object \n",
      " 7   Column_7   267 non-null    object \n",
      " 8   Column_8   0 non-null      float64\n",
      " 9   1978       1049 non-null   object \n",
      " 10  Column_10  1049 non-null   object \n",
      " 11  Column_11  1049 non-null   object \n",
      " 12  Column_12  1049 non-null   object \n",
      " 13  Column_13  1049 non-null   object \n",
      " 14  Column_14  945 non-null    object \n",
      " 15  Column_15  937 non-null    object \n",
      " 16  Column_16  869 non-null    object \n",
      " 17  Column_17  0 non-null      float64\n",
      " 18  1979       720 non-null    object \n",
      " 19  Column_19  720 non-null    object \n",
      " 20  Column_20  720 non-null    object \n",
      " 21  Column_21  720 non-null    object \n",
      " 22  Column_22  720 non-null    object \n",
      " 23  Column_23  629 non-null    object \n",
      " 24  Column_24  652 non-null    object \n",
      " 25  Column_25  639 non-null    object \n",
      " 26  Column_26  0 non-null      float64\n",
      " 27  1980       1416 non-null   object \n",
      " 28  Column_28  1416 non-null   object \n",
      " 29  Column_29  1416 non-null   object \n",
      " 30  Column_30  1416 non-null   object \n",
      " 31  Column_31  1416 non-null   object \n",
      " 32  Column_32  1319 non-null   object \n",
      " 33  Column_33  1333 non-null   object \n",
      " 34  Column_34  1318 non-null   object \n",
      "dtypes: float64(3), object(32)\n",
      "memory usage: 387.3+ KB\n"
     ]
    }
   ],
   "source": [
    "data.info()"
   ]
  },
  {
   "cell_type": "code",
   "execution_count": 33,
   "id": "eb2018dc-4f1f-429d-90a6-040c2e2767a5",
   "metadata": {},
   "outputs": [],
   "source": [
    "data = pd.DataFrame({\n",
    "    'record_id': ['Column1', 'Column2', 'Column3', 'Column4', 'Column5'],\n",
    "    'feature1': [1, 2, 3, 4, 5],\n",
    "    'feature2': [6, 7, 8, None, 9],\n",
    "    'feature3': [10, 11, 12, 13, 14],\n",
    "    'feature4': [15, 16, 17, None, 19],\n",
    "    'feature5': [20, 21, 22, 23, 24],\n",
    "    'feature6': [25, 26, None, 28, 29],\n",
    "    'feature7': [30, 31, 32, 33, 34]\n",
    "})\n"
   ]
  },
  {
   "cell_type": "code",
   "execution_count": 34,
   "id": "852ee9de-bb01-409b-957e-1db67fe57a9f",
   "metadata": {},
   "outputs": [
    {
     "name": "stdout",
     "output_type": "stream",
     "text": [
      "Original Data:\n",
      "  record_id  feature1  feature2  feature3  feature4  feature5  feature6  \\\n",
      "0   Column1         1       6.0        10      15.0        20      25.0   \n",
      "1   Column2         2       7.0        11      16.0        21      26.0   \n",
      "2   Column3         3       8.0        12      17.0        22       NaN   \n",
      "3   Column4         4       NaN        13       NaN        23      28.0   \n",
      "4   Column5         5       9.0        14      19.0        24      29.0   \n",
      "\n",
      "   feature7  \n",
      "0        30  \n",
      "1        31  \n",
      "2        32  \n",
      "3        33  \n",
      "4        34  \n"
     ]
    }
   ],
   "source": [
    "print('Original Data:')\n",
    "print(data)"
   ]
  },
  {
   "cell_type": "code",
   "execution_count": 35,
   "id": "b77cca83-ba50-4fe6-9794-0ca53e00d9ed",
   "metadata": {},
   "outputs": [
    {
     "name": "stdout",
     "output_type": "stream",
     "text": [
      "\n",
      "Numeric Data:\n",
      "   feature1  feature2  feature3  feature4  feature5  feature6  feature7\n",
      "0         1       6.0        10      15.0        20      25.0        30\n",
      "1         2       7.0        11      16.0        21      26.0        31\n",
      "2         3       8.0        12      17.0        22       NaN        32\n",
      "3         4       NaN        13       NaN        23      28.0        33\n",
      "4         5       9.0        14      19.0        24      29.0        34\n"
     ]
    }
   ],
   "source": [
    "numeric_data = data.drop(columns=['record_id'])\n",
    "print('\\nNumeric Data:')\n",
    "print(numeric_data)\n"
   ]
  },
  {
   "cell_type": "code",
   "execution_count": 36,
   "id": "8e0ff60f-0b58-43d7-86e7-2e5ea67f3611",
   "metadata": {},
   "outputs": [
    {
     "name": "stdout",
     "output_type": "stream",
     "text": [
      "\n",
      "Numeric Data after Imputation:\n",
      "   feature1  feature2  feature3  feature4  feature5  feature6  feature7\n",
      "0       1.0       6.0      10.0     15.00      20.0      25.0      30.0\n",
      "1       2.0       7.0      11.0     16.00      21.0      26.0      31.0\n",
      "2       3.0       8.0      12.0     17.00      22.0      27.0      32.0\n",
      "3       4.0       7.5      13.0     16.75      23.0      28.0      33.0\n",
      "4       5.0       9.0      14.0     19.00      24.0      29.0      34.0\n"
     ]
    }
   ],
   "source": [
    "imputer = SimpleImputer(strategy='mean')\n",
    "numeric_data_imputed = imputer.fit_transform(numeric_data)\n",
    "print('\\nNumeric Data after Imputation:')\n",
    "print(pd.DataFrame(numeric_data_imputed, columns=numeric_data.columns))"
   ]
  },
  {
   "cell_type": "code",
   "execution_count": 37,
   "id": "efeb821d-5367-4eed-939b-0f361d4bef22",
   "metadata": {},
   "outputs": [],
   "source": [
    "ICA = FastICA(n_components=2)"
   ]
  },
  {
   "cell_type": "code",
   "execution_count": 38,
   "id": "298b545a-fa5d-4842-b376-32e97d8c8127",
   "metadata": {},
   "outputs": [
    {
     "name": "stderr",
     "output_type": "stream",
     "text": [
      "C:\\Users\\VIZECH\\anaconda3\\Lib\\site-packages\\sklearn\\decomposition\\_fastica.py:542: FutureWarning: Starting in v1.3, whiten='unit-variance' will be used by default.\n",
      "  warnings.warn(\n",
      "C:\\Users\\VIZECH\\anaconda3\\Lib\\site-packages\\sklearn\\decomposition\\_fastica.py:123: ConvergenceWarning: FastICA did not converge. Consider increasing tolerance or the maximum number of iterations.\n",
      "  warnings.warn(\n"
     ]
    }
   ],
   "source": [
    "IndependentComp_values = ICA.fit_transform(numeric_data_imputed)\n"
   ]
  },
  {
   "cell_type": "code",
   "execution_count": 39,
   "id": "752337df-a654-4e55-b5c2-b6bb30ab1341",
   "metadata": {},
   "outputs": [
    {
     "name": "stdout",
     "output_type": "stream",
     "text": [
      "\n",
      "## Final Independent Components ##\n",
      "        IC1       IC2\n",
      "0  0.609014  0.194610\n",
      "1  0.218640  0.270663\n",
      "2 -0.171733  0.346716\n",
      "3  0.082339 -0.874500\n",
      "4 -0.738259  0.062512\n"
     ]
    }
   ],
   "source": [
    "print('\\n## Final Independent Components ##')\n",
    "reducedata = pd.DataFrame(data=IndependentComp_values, columns=['IC1', 'IC2'])\n",
    "print(reducedata.head(10))"
   ]
  }
 ],
 "metadata": {
  "kernelspec": {
   "display_name": "Python 3 (ipykernel)",
   "language": "python",
   "name": "python3"
  },
  "language_info": {
   "codemirror_mode": {
    "name": "ipython",
    "version": 3
   },
   "file_extension": ".py",
   "mimetype": "text/x-python",
   "name": "python",
   "nbconvert_exporter": "python",
   "pygments_lexer": "ipython3",
   "version": "3.11.7"
  }
 },
 "nbformat": 4,
 "nbformat_minor": 5
}
