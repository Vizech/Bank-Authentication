{
 "cells": [
  {
   "cell_type": "code",
   "execution_count": 2,
   "id": "41def6f4-10aa-4d86-b78b-ff4eda45aca4",
   "metadata": {},
   "outputs": [
    {
     "name": "stdout",
     "output_type": "stream",
     "text": [
      "   Age  Income  Income_Mapped\n",
      "0   12     Low              1\n",
      "1   34     Low              1\n",
      "2   56    High              3\n",
      "3   22  Medium              2\n",
      "4   24  Medium              2\n",
      "5   35    High              3\n"
     ]
    }
   ],
   "source": [
    "import pandas as pd\n",
    "\n",
    "data = pd.DataFrame({\n",
    " 'Age': [12, 34, 56, 22, 24, 35],\n",
    " 'Income': ['Low', 'Low', 'High', 'Medium', 'Medium', 'High']\n",
    "})\n",
    "\n",
    "data['Income_Mapped'] = data['Income'].map({'Low': 1, 'Medium': 2, 'High': 3})\n",
    "print(data)\n"
   ]
  },
  {
   "cell_type": "code",
   "execution_count": 6,
   "id": "61ba854c-cf3c-4767-92aa-22a342eadd1a",
   "metadata": {},
   "outputs": [
    {
     "name": "stdout",
     "output_type": "stream",
     "text": [
      "[[0. 0. 1.]\n",
      " [0. 0. 1.]\n",
      " [0. 0. 1.]\n",
      " ...\n",
      " [1. 0. 0.]\n",
      " [1. 0. 0.]\n",
      " [1. 0. 0.]]\n"
     ]
    }
   ],
   "source": [
    "from sklearn.preprocessing import OneHotEncoder\n",
    "from seaborn import load_dataset\n",
    "\n",
    "# Load the penguins dataset\n",
    "data = load_dataset('penguins')\n",
    "\n",
    "# Initialize the OneHotEncoder\n",
    "ohe = OneHotEncoder()\n",
    "\n",
    "# Fit and transform the 'island' column\n",
    "transform = ohe.fit_transform(data[['island']])\n",
    "\n",
    "# Convert the result to an array and print it\n",
    "print(transform.toarray())\n"
   ]
  },
  {
   "cell_type": "code",
   "execution_count": 9,
   "id": "acf92fa4-9277-4642-838f-f95f7bdd2756",
   "metadata": {},
   "outputs": [
    {
     "name": "stdout",
     "output_type": "stream",
     "text": [
      "[array(['Biscoe', 'Dream', 'Torgersen'], dtype=object)]\n"
     ]
    }
   ],
   "source": [
    "print(ohe.categories_)\n",
    "data[ohe.categories_[0]] = transform.toarray()\n"
   ]
  }
 ],
 "metadata": {
  "kernelspec": {
   "display_name": "Python 3 (ipykernel)",
   "language": "python",
   "name": "python3"
  },
  "language_info": {
   "codemirror_mode": {
    "name": "ipython",
    "version": 3
   },
   "file_extension": ".py",
   "mimetype": "text/x-python",
   "name": "python",
   "nbconvert_exporter": "python",
   "pygments_lexer": "ipython3",
   "version": "3.12.4"
  }
 },
 "nbformat": 4,
 "nbformat_minor": 5
}
